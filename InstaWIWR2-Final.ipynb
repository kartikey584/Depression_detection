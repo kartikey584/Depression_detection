{
 "cells": [
  {
   "cell_type": "code",
   "execution_count": 1,
   "id": "96b07e0c",
   "metadata": {
    "scrolled": true
   },
   "outputs": [
    {
     "name": "stdout",
     "output_type": "stream",
     "text": [
      "Requirement already satisfied: beautifulsoup4 in d:\\capstone\\repos\\depression\\lib\\site-packages (4.12.3)\n",
      "Requirement already satisfied: requests in d:\\capstone\\repos\\depression\\lib\\site-packages (2.31.0)\n",
      "Requirement already satisfied: pandas in d:\\capstone\\repos\\depression\\lib\\site-packages (2.2.1)\n",
      "Requirement already satisfied: matplotlib in d:\\capstone\\repos\\depression\\lib\\site-packages (3.8.3)\n",
      "Collecting plotly\n",
      "  Downloading plotly-5.21.0-py3-none-any.whl (15.7 MB)\n",
      "     --------------------------------------- 15.7/15.7 MB 11.1 MB/s eta 0:00:00\n",
      "Requirement already satisfied: soupsieve>1.2 in d:\\capstone\\repos\\depression\\lib\\site-packages (from beautifulsoup4) (2.5)\n",
      "Requirement already satisfied: charset-normalizer<4,>=2 in d:\\capstone\\repos\\depression\\lib\\site-packages (from requests) (3.3.2)\n",
      "Requirement already satisfied: idna<4,>=2.5 in d:\\capstone\\repos\\depression\\lib\\site-packages (from requests) (3.6)\n",
      "Requirement already satisfied: urllib3<3,>=1.21.1 in d:\\capstone\\repos\\depression\\lib\\site-packages (from requests) (2.2.1)\n",
      "Requirement already satisfied: certifi>=2017.4.17 in d:\\capstone\\repos\\depression\\lib\\site-packages (from requests) (2024.2.2)\n",
      "Requirement already satisfied: numpy<2,>=1.23.2 in d:\\capstone\\repos\\depression\\lib\\site-packages (from pandas) (1.26.4)\n",
      "Requirement already satisfied: python-dateutil>=2.8.2 in d:\\capstone\\repos\\depression\\lib\\site-packages (from pandas) (2.9.0.post0)\n",
      "Requirement already satisfied: pytz>=2020.1 in d:\\capstone\\repos\\depression\\lib\\site-packages (from pandas) (2024.1)\n",
      "Requirement already satisfied: tzdata>=2022.7 in d:\\capstone\\repos\\depression\\lib\\site-packages (from pandas) (2024.1)\n",
      "Requirement already satisfied: contourpy>=1.0.1 in d:\\capstone\\repos\\depression\\lib\\site-packages (from matplotlib) (1.2.0)\n",
      "Requirement already satisfied: cycler>=0.10 in d:\\capstone\\repos\\depression\\lib\\site-packages (from matplotlib) (0.12.1)\n",
      "Requirement already satisfied: fonttools>=4.22.0 in d:\\capstone\\repos\\depression\\lib\\site-packages (from matplotlib) (4.50.0)\n",
      "Requirement already satisfied: kiwisolver>=1.3.1 in d:\\capstone\\repos\\depression\\lib\\site-packages (from matplotlib) (1.4.5)\n",
      "Requirement already satisfied: packaging>=20.0 in d:\\capstone\\repos\\depression\\lib\\site-packages (from matplotlib) (24.0)\n",
      "Requirement already satisfied: pillow>=8 in d:\\capstone\\repos\\depression\\lib\\site-packages (from matplotlib) (10.3.0)\n",
      "Requirement already satisfied: pyparsing>=2.3.1 in d:\\capstone\\repos\\depression\\lib\\site-packages (from matplotlib) (3.1.2)\n",
      "Collecting tenacity>=6.2.0\n",
      "  Downloading tenacity-8.2.3-py3-none-any.whl (24 kB)\n",
      "Requirement already satisfied: six>=1.5 in d:\\capstone\\repos\\depression\\lib\\site-packages (from python-dateutil>=2.8.2->pandas) (1.16.0)\n",
      "Installing collected packages: tenacity, plotly\n",
      "Successfully installed plotly-5.21.0 tenacity-8.2.3\n"
     ]
    },
    {
     "name": "stderr",
     "output_type": "stream",
     "text": [
      "\n",
      "[notice] A new release of pip available: 22.3 -> 24.0\n",
      "[notice] To update, run: python.exe -m pip install --upgrade pip\n"
     ]
    }
   ],
   "source": [
    "!pip install beautifulsoup4 requests pandas matplotlib plotly"
   ]
  },
  {
   "cell_type": "code",
   "execution_count": 3,
   "id": "bc4be2f6",
   "metadata": {},
   "outputs": [],
   "source": [
    "import requests\n",
    "import pandas as pd"
   ]
  },
  {
   "cell_type": "code",
   "execution_count": 34,
   "id": "e36eb226",
   "metadata": {},
   "outputs": [],
   "source": [
    "url = f'https://graph.instagram.com/me/media?fields=id,caption,media_type,media_url,timestamp&access_token=IGQWRPZAmliZAXEtRGRkY1drRl9hSFhoUFFLZAUN4ZAHlwdnByRU9Bd1h0TFBxSWFwSEZAzYUVHWkxEQ2VsdEFNMnMxU1ZA5aTIwS3NaT2Rna0k5bDVHRzUwVUNNLVBBZAERhN0hLUGJMY2tfTU9adFExMHRiY3NWakdLR0VGc3hSSEZAHNXFGdHMZD'"
   ]
  },
  {
   "cell_type": "code",
   "execution_count": 35,
   "id": "65ce47c5",
   "metadata": {},
   "outputs": [],
   "source": [
    "response = requests.get(url)"
   ]
  },
  {
   "cell_type": "code",
   "execution_count": 36,
   "id": "48208fee",
   "metadata": {},
   "outputs": [],
   "source": [
    "if response.status_code == 200:\n",
    "    data = response.json()\n",
    "else:\n",
    "    print(\"Error making the API request:\", response.text)\n",
    "    data = None"
   ]
  },
  {
   "cell_type": "code",
   "execution_count": 37,
   "id": "c1e96d4f",
   "metadata": {},
   "outputs": [
    {
     "data": {
      "text/plain": [
       "{'data': [{'id': '18042446401450768',\n",
       "   'caption': 'Well Well Well,\\nif this is how waking up on the terrace makes you feel like, then I’m doing it again!!!\\n\\nWho would’ve thought @khajuriaarchit and me would be the most responsible adults on the trip xD\\n\\nPS: Yes @satanringh was trying to be my Joi.',\n",
       "   'media_type': 'CAROUSEL_ALBUM',\n",
       "   'media_url': 'https://scontent.cdninstagram.com/v/t51.29350-15/346042571_643987324213036_5362497485523683771_n.jpg?_nc_cat=101&ccb=1-7&_nc_sid=18de74&_nc_ohc=Rb4qJ-ztReIQ7kNvgFt5MHR&_nc_ht=scontent.cdninstagram.com&edm=ANo9K5cEAAAA&oh=00_AfBLjSSRAlSTgODLTIAkenx3GtWtXnUwZOUgsrzJVSNHzA&oe=6636F1EE',\n",
       "   'timestamp': '2023-05-12T11:39:51+0000'},\n",
       "  {'id': '17973556948825885',\n",
       "   'caption': 'Soooo much fun with these guys!!❤️❤️\\n\\nOkay ngl, that last pic looks straight out of the set of a low budget Mirzapur production house.',\n",
       "   'media_type': 'CAROUSEL_ALBUM',\n",
       "   'media_url': 'https://scontent.cdninstagram.com/v/t51.29350-15/318822940_645842560655177_5748647886721063787_n.webp?stp=dst-jpg&_nc_cat=111&ccb=1-7&_nc_sid=18de74&_nc_ohc=aEa1eFp7n7wQ7kNvgFc6lj9&_nc_ht=scontent.cdninstagram.com&edm=ANo9K5cEAAAA&oh=00_AfDBHvVK5kBB7LJrbeQY5tXzIhAyV4LaN3oMGUv-mbkQrA&oe=6636D823',\n",
       "   'timestamp': '2022-12-10T19:16:14+0000'},\n",
       "  {'id': '17949428459369902',\n",
       "   'caption': \"Wooooow!\\nI can't believe it and honestly this is gonna take me a while to process.\\nBut I'm so happy for you!\\nYou deserve all the love in the world❤️❤️❤️\\n\\nNow don't be a Gooner and be the Red Devil you are!\\n\\nPS:Missed you @anxdubey 🥺\",\n",
       "   'media_type': 'CAROUSEL_ALBUM',\n",
       "   'media_url': 'https://scontent.cdninstagram.com/v/t51.29350-15/318784144_687541492956700_5046417064504899472_n.webp?stp=dst-jpg&_nc_cat=110&ccb=1-7&_nc_sid=18de74&_nc_ohc=BIYs9k0ilyIQ7kNvgHYNcVE&_nc_ht=scontent.cdninstagram.com&edm=ANo9K5cEAAAA&oh=00_AfAaPz5LuQSzzB0tnBeOycPc9eYROzpp3e7u2ZRBpLz1Pw&oe=6636DDF1',\n",
       "   'timestamp': '2022-12-10T16:51:42+0000'},\n",
       "  {'id': '17915992601505552',\n",
       "   'caption': \"So,we did the secret santa a bit too early (or late idk lmao).\\nNot at all feel bad for @joshu_chris1107 ,that bbg got what he deserved lmaoo(inserts purple hearts)\\nAlso I've started wearing Anime Tshirts,bruhh I am becoming one of them looool.\\nUmmm yeah College has been fun!\\n\\nI HAD TO POST THAT LAST VID!!\",\n",
       "   'media_type': 'CAROUSEL_ALBUM',\n",
       "   'media_url': 'https://scontent.cdninstagram.com/v/t51.29350-15/277149590_510615727080063_8901963896527080515_n.webp?stp=dst-jpg&_nc_cat=110&ccb=1-7&_nc_sid=18de74&_nc_ohc=4G4t45sWTeoQ7kNvgHzKqgg&_nc_ht=scontent.cdninstagram.com&edm=ANo9K5cEAAAA&oh=00_AfAjrbNW5joTFCNRjCMgHRQtJgd770DzyjSeN5KLxr8FdA&oe=6636DDF2',\n",
       "   'timestamp': '2022-03-22T15:48:47+0000'},\n",
       "  {'id': '17955419035656096',\n",
       "   'caption': \"Ummmm a birthday post ig....\\nHad a blast!\\nThe face and that jacket tho, @satanringh I'm keeping it thanksss.\\nAlso the guy with the pink cap ain't a friend nomore.\\n@thearvindk suck sick pics fam thank you so much for that!!\",\n",
       "   'media_type': 'CAROUSEL_ALBUM',\n",
       "   'media_url': 'https://scontent.cdninstagram.com/v/t51.29350-15/275695627_398272512108823_4216778695187825228_n.webp?stp=dst-jpg&_nc_cat=106&ccb=1-7&_nc_sid=18de74&_nc_ohc=NGVde4vBBvgQ7kNvgGS8XPd&_nc_ht=scontent.cdninstagram.com&edm=ANo9K5cEAAAA&oh=00_AfBkNmeIpE5dLGt6WKC5PCJvYq9mU1_j1T8vwT8Bpzjv_w&oe=6636CC7A',\n",
       "   'timestamp': '2022-03-13T09:01:06+0000'},\n",
       "  {'id': '17909518853372744',\n",
       "   'caption': 'Kehndi Hundi Si @khajuriaarchit',\n",
       "   'media_type': 'IMAGE',\n",
       "   'media_url': 'https://scontent.cdninstagram.com/v/t51.29350-15/272947726_469072128207956_1696625815160169363_n.webp?stp=dst-jpg&_nc_cat=104&ccb=1-7&_nc_sid=18de74&_nc_ohc=IFmag0HC2vEQ7kNvgEcuABR&_nc_ht=scontent.cdninstagram.com&edm=ANo9K5cEAAAA&oh=00_AfApenLr4ZmnJVwsREzK7IdUHsxWKb_OGUXzr27GIabSjw&oe=6636CCF1',\n",
       "   'timestamp': '2022-02-01T17:24:22+0000'},\n",
       "  {'id': '17915548409185209',\n",
       "   'caption': 'My Christmas present is better than yours!😌🎄✨',\n",
       "   'media_type': 'IMAGE',\n",
       "   'media_url': 'https://scontent.cdninstagram.com/v/t51.29350-15/270016831_1081863335911704_635172425544782621_n.webp?stp=dst-jpg&_nc_cat=111&ccb=1-7&_nc_sid=18de74&_nc_ohc=nQy_s3fqaHUQ7kNvgGC2Ui6&_nc_ht=scontent.cdninstagram.com&edm=ANo9K5cEAAAA&oh=00_AfCmrekO0dIn4P6ckHXmVOUse97SWdSHxR09fUIdDIdMsg&oe=6636ED8C',\n",
       "   'timestamp': '2021-12-25T18:16:23+0000'},\n",
       "  {'id': '17933252203771714',\n",
       "   'caption': 'Awkwardness is directly proportional to size ever increasing.',\n",
       "   'media_type': 'CAROUSEL_ALBUM',\n",
       "   'media_url': 'https://scontent.cdninstagram.com/v/t51.29350-15/251306821_204792578464198_366051839435350924_n.webp?stp=dst-jpg&_nc_cat=104&ccb=1-7&_nc_sid=18de74&_nc_ohc=joUHDwAID2sQ7kNvgFuYt_M&_nc_ht=scontent.cdninstagram.com&edm=ANo9K5cEAAAA&oh=00_AfBa7QchrTQYbBuoh9-X8Kn5fZd7vSzhrYaM7J2S_QILAA&oe=6636D6AC',\n",
       "   'timestamp': '2021-11-01T17:54:12+0000'},\n",
       "  {'id': '18123764818217370',\n",
       "   'caption': 'Babe we should break up, my kurti is longer than yours.',\n",
       "   'media_type': 'IMAGE',\n",
       "   'media_url': 'https://scontent.cdninstagram.com/v/t51.29350-15/234891218_559672438496931_2882234975856634051_n.jpg?_nc_cat=109&ccb=1-7&_nc_sid=18de74&_nc_ohc=epOa83Z3bpsQ7kNvgHTMFR7&_nc_ht=scontent.cdninstagram.com&edm=ANo9K5cEAAAA&oh=00_AfDEQjziVFq5KdnB4EckapWiqoM3RF6DiZPYb7OHvHesAQ&oe=6636EB32',\n",
       "   'timestamp': '2021-08-09T19:01:40+0000'},\n",
       "  {'id': '17877087046978553',\n",
       "   'caption': 'CARRY ON',\n",
       "   'media_type': 'CAROUSEL_ALBUM',\n",
       "   'media_url': 'https://scontent.cdninstagram.com/v/t51.29350-15/125406296_2162836437194137_7770973431105370190_n.jpg?_nc_cat=103&ccb=1-7&_nc_sid=18de74&_nc_ohc=YXxPJvZU9hAQ7kNvgGywp8V&_nc_ht=scontent.cdninstagram.com&edm=ANo9K5cEAAAA&oh=00_AfArWtw3MT_6thqWYK5BPHshWHg6H-l6O80m6Rwoyy2Tuw&oe=6636DC03',\n",
       "   'timestamp': '2020-11-19T13:30:16+0000'},\n",
       "  {'id': '18170228749039334',\n",
       "   'caption': 'Confidence level: Kanye West',\n",
       "   'media_type': 'IMAGE',\n",
       "   'media_url': 'https://scontent.cdninstagram.com/v/t51.29350-15/122194846_339537764000374_3584537872439168263_n.jpg?_nc_cat=110&ccb=1-7&_nc_sid=18de74&_nc_aid=0&_nc_ohc=6hHtFRUM_P0Q7kNvgE8TR6I&_nc_ht=scontent.cdninstagram.com&edm=ANo9K5cEAAAA&oh=00_AfDr-lT-0azvJk-ct9H2R4p4NxKBlKaLq-E5pbDP38RXkw&oe=6636EC1B',\n",
       "   'timestamp': '2020-10-23T16:50:24+0000'},\n",
       "  {'id': '17870646019798745',\n",
       "   'caption': \"Throwback to 2016!\\nWas so livid back then after United's FA CUP triumph!😂😂 Couldn't stop myself from dabbing!(knew @paulpogba was coming btw!)\\nHoping for something similar tonight!\\nCome On United!🔴🔴\",\n",
       "   'media_type': 'IMAGE',\n",
       "   'media_url': 'https://scontent.cdninstagram.com/v/t51.2885-15/103964031_634734917440663_3930095075209644362_n.jpg?_nc_cat=110&ccb=1-7&_nc_sid=18de74&_nc_ohc=ju8ibXuG1gsQ7kNvgGD1Fcb&_nc_ht=scontent.cdninstagram.com&edm=ANo9K5cEAAAA&oh=00_AfDoZq2M1ee3-pKZS-nA-4RQdbt7mH0lut00ydUilpOpow&oe=6636F03A',\n",
       "   'timestamp': '2020-06-19T15:24:32+0000'},\n",
       "  {'id': '18100153813145770',\n",
       "   'caption': \"Happy Birthday Di!❤️🥳🥳\\nThanks for being such a sport !\\nThanks for saving me everytime I did something stupid(Bohot Bar)! I look up to you  and see how far you've come!\\nThanks for being my Idol!\\nI love You ♥️ (and ofcourse the other one as well😂😘)\\nLove \\nKanha\",\n",
       "   'media_type': 'CAROUSEL_ALBUM',\n",
       "   'media_url': 'https://scontent.cdninstagram.com/v/t51.2885-15/97569786_3745812375493728_7498402469952892413_n.jpg?_nc_cat=108&ccb=1-7&_nc_sid=18de74&_nc_ohc=9mAYlt9SHCYQ7kNvgH73cDp&_nc_ht=scontent.cdninstagram.com&edm=ANo9K5cEAAAA&oh=00_AfBJioLgDKmCyqI4ZBiwapAjpRcheKd9HHnfbt5inLKz8A&oe=6636D058',\n",
       "   'timestamp': '2020-05-20T18:14:11+0000'},\n",
       "  {'id': '17851444100038840',\n",
       "   'caption': 'Happy Birthday Papa!\\nI would keep on making faces like these 😂 because I love You!',\n",
       "   'media_type': 'CAROUSEL_ALBUM',\n",
       "   'media_url': 'https://scontent.cdninstagram.com/v/t51.2885-15/97272556_326956051602376_3429772005695212774_n.jpg?_nc_cat=109&ccb=1-7&_nc_sid=18de74&_nc_ohc=rks_0udHpwUQ7kNvgHh5Yf-&_nc_ht=scontent.cdninstagram.com&edm=ANo9K5cEAAAA&oh=00_AfDx-SInzjvelQeEEnx2lIlIEjy8fQhyaw1rRdBuN4tPIg&oe=6636DFBD',\n",
       "   'timestamp': '2020-05-18T17:38:55+0000'},\n",
       "  {'id': '18141022786041614',\n",
       "   'caption': \"#tbt to last year!!I was so excited to hear the rumours Of Paulo Dubala(@paulodybala ) joining MUFC that I couldn't resist to do his trademark celebration!! PS:He didn't join btw.🥴🙄😩🤦\\nPC:@cs7.chinmay 🤜🤛\",\n",
       "   'media_type': 'IMAGE',\n",
       "   'media_url': 'https://scontent.cdninstagram.com/v/t51.2885-15/95831025_616296225623700_1526748930363725445_n.jpg?_nc_cat=108&ccb=1-7&_nc_sid=18de74&_nc_ohc=71ghAAXvpAkQ7kNvgEyVmTb&_nc_oc=Adggfda28cur-wdRMVCfeRGPl0W1iwm5tZ0btMsP4aA-d1Fn_Ps5xYCjKwk_cS2Dmr97dGleVB_bCi8XRCrDoZXO&_nc_ht=scontent.cdninstagram.com&edm=ANo9K5cEAAAA&oh=00_AfAQ6S9LpFqUAG0ntWYDI3n0kASje6WJlbxEGq8omz7jhQ&oe=6636D031',\n",
       "   'timestamp': '2020-05-07T06:56:43+0000'},\n",
       "  {'id': '17870305297727004',\n",
       "   'caption': 'Run to the rescue with love and peace will follow.',\n",
       "   'media_type': 'IMAGE',\n",
       "   'media_url': 'https://scontent.cdninstagram.com/v/t51.2885-15/95136964_150788576449459_7538393622803968464_n.jpg?_nc_cat=105&ccb=1-7&_nc_sid=18de74&_nc_ohc=ZXS4UwmwTz0Q7kNvgEXxwVM&_nc_ht=scontent.cdninstagram.com&edm=ANo9K5cEAAAA&oh=00_AfB9t-VSDtEtB_dlgkMYrjb6UrpHuydy0UdszS3mq2u2dg&oe=6636E845',\n",
       "   'timestamp': '2020-04-30T06:22:53+0000'}],\n",
       " 'paging': {'cursors': {'before': 'QVFIUkEtaHhyNmppNU9fb1I3ck5tYnZAoZA0tNTlhXU3NBZAkVOaGxacE9hTmROYlN3NEdSZAE0xVzVXN2QzMU1TSmF5SXR0cWdOR19LRkQwYklhcnZACYTdUZAlRn',\n",
       "   'after': 'QVFIUjZAjajZAxcjhpNVotRXdQM3d0VlB5ZAjZAnNjhBck9FVGE4UjNtLWg5WDhJTUdFaGVBdjRLUVUyLWRGTE45Y2NXVTRYWGx5UW5DcGgyMWwyUG03Wlp0NUN3'}}}"
      ]
     },
     "execution_count": 37,
     "metadata": {},
     "output_type": "execute_result"
    }
   ],
   "source": [
    "data"
   ]
  },
  {
   "cell_type": "code",
   "execution_count": 38,
   "id": "41e9a646",
   "metadata": {},
   "outputs": [],
   "source": [
    "if data:\n",
    "    df = pd.DataFrame(data['data'])  # Assuming 'data' is a dictionary containing 'data' key with a list of records\n",
    "else:\n",
    "    df = pd.DataFrame(columns=['id', 'caption','mediatype','media_url','timestamp'])\n"
   ]
  },
  {
   "cell_type": "code",
   "execution_count": 39,
   "id": "0fa1078b",
   "metadata": {
    "scrolled": true
   },
   "outputs": [
    {
     "name": "stdout",
     "output_type": "stream",
     "text": [
      "                   id                                            caption  \\\n",
      "0   18042446401450768  Well Well Well,\\nif this is how waking up on t...   \n",
      "1   17973556948825885  Soooo much fun with these guys!!❤️❤️\\n\\nOkay n...   \n",
      "2   17949428459369902  Wooooow!\\nI can't believe it and honestly this...   \n",
      "3   17915992601505552  So,we did the secret santa a bit too early (or...   \n",
      "4   17955419035656096  Ummmm a birthday post ig....\\nHad a blast!\\nTh...   \n",
      "5   17909518853372744                    Kehndi Hundi Si @khajuriaarchit   \n",
      "6   17915548409185209      My Christmas present is better than yours!😌🎄✨   \n",
      "7   17933252203771714  Awkwardness is directly proportional to size e...   \n",
      "8   18123764818217370  Babe we should break up, my kurti is longer th...   \n",
      "9   17877087046978553                                           CARRY ON   \n",
      "10  18170228749039334                       Confidence level: Kanye West   \n",
      "11  17870646019798745  Throwback to 2016!\\nWas so livid back then aft...   \n",
      "12  18100153813145770  Happy Birthday Di!❤️🥳🥳\\nThanks for being such ...   \n",
      "13  17851444100038840  Happy Birthday Papa!\\nI would keep on making f...   \n",
      "14  18141022786041614  #tbt to last year!!I was so excited to hear th...   \n",
      "15  17870305297727004  Run to the rescue with love and peace will fol...   \n",
      "\n",
      "        media_type                                          media_url  \\\n",
      "0   CAROUSEL_ALBUM  https://scontent.cdninstagram.com/v/t51.29350-...   \n",
      "1   CAROUSEL_ALBUM  https://scontent.cdninstagram.com/v/t51.29350-...   \n",
      "2   CAROUSEL_ALBUM  https://scontent.cdninstagram.com/v/t51.29350-...   \n",
      "3   CAROUSEL_ALBUM  https://scontent.cdninstagram.com/v/t51.29350-...   \n",
      "4   CAROUSEL_ALBUM  https://scontent.cdninstagram.com/v/t51.29350-...   \n",
      "5            IMAGE  https://scontent.cdninstagram.com/v/t51.29350-...   \n",
      "6            IMAGE  https://scontent.cdninstagram.com/v/t51.29350-...   \n",
      "7   CAROUSEL_ALBUM  https://scontent.cdninstagram.com/v/t51.29350-...   \n",
      "8            IMAGE  https://scontent.cdninstagram.com/v/t51.29350-...   \n",
      "9   CAROUSEL_ALBUM  https://scontent.cdninstagram.com/v/t51.29350-...   \n",
      "10           IMAGE  https://scontent.cdninstagram.com/v/t51.29350-...   \n",
      "11           IMAGE  https://scontent.cdninstagram.com/v/t51.2885-1...   \n",
      "12  CAROUSEL_ALBUM  https://scontent.cdninstagram.com/v/t51.2885-1...   \n",
      "13  CAROUSEL_ALBUM  https://scontent.cdninstagram.com/v/t51.2885-1...   \n",
      "14           IMAGE  https://scontent.cdninstagram.com/v/t51.2885-1...   \n",
      "15           IMAGE  https://scontent.cdninstagram.com/v/t51.2885-1...   \n",
      "\n",
      "                   timestamp  \n",
      "0   2023-05-12T11:39:51+0000  \n",
      "1   2022-12-10T19:16:14+0000  \n",
      "2   2022-12-10T16:51:42+0000  \n",
      "3   2022-03-22T15:48:47+0000  \n",
      "4   2022-03-13T09:01:06+0000  \n",
      "5   2022-02-01T17:24:22+0000  \n",
      "6   2021-12-25T18:16:23+0000  \n",
      "7   2021-11-01T17:54:12+0000  \n",
      "8   2021-08-09T19:01:40+0000  \n",
      "9   2020-11-19T13:30:16+0000  \n",
      "10  2020-10-23T16:50:24+0000  \n",
      "11  2020-06-19T15:24:32+0000  \n",
      "12  2020-05-20T18:14:11+0000  \n",
      "13  2020-05-18T17:38:55+0000  \n",
      "14  2020-05-07T06:56:43+0000  \n",
      "15  2020-04-30T06:22:53+0000  \n"
     ]
    }
   ],
   "source": [
    "print(df)"
   ]
  },
  {
   "cell_type": "code",
   "execution_count": 40,
   "id": "0b1b3b7e",
   "metadata": {},
   "outputs": [],
   "source": [
    "df.to_csv('instagram_data.csv', index=False)"
   ]
  },
  {
   "cell_type": "code",
   "execution_count": 2,
   "id": "14dd736b",
   "metadata": {},
   "outputs": [
    {
     "name": "stdout",
     "output_type": "stream",
     "text": [
      "Requirement already satisfied: scikit-learn in d:\\capstone\\repos\\depression\\lib\\site-packages (1.4.1.post1)\n",
      "Requirement already satisfied: keras in d:\\capstone\\repos\\depression\\lib\\site-packages (3.1.1)\n",
      "Requirement already satisfied: tensorflow in d:\\capstone\\repos\\depression\\lib\\site-packages (2.16.1)\n",
      "Requirement already satisfied: numpy<2.0,>=1.19.5 in d:\\capstone\\repos\\depression\\lib\\site-packages (from scikit-learn) (1.26.4)\n",
      "Requirement already satisfied: scipy>=1.6.0 in d:\\capstone\\repos\\depression\\lib\\site-packages (from scikit-learn) (1.12.0)\n",
      "Requirement already satisfied: joblib>=1.2.0 in d:\\capstone\\repos\\depression\\lib\\site-packages (from scikit-learn) (1.3.2)\n",
      "Requirement already satisfied: threadpoolctl>=2.0.0 in d:\\capstone\\repos\\depression\\lib\\site-packages (from scikit-learn) (3.4.0)\n",
      "Requirement already satisfied: absl-py in d:\\capstone\\repos\\depression\\lib\\site-packages (from keras) (2.1.0)\n",
      "Requirement already satisfied: rich in d:\\capstone\\repos\\depression\\lib\\site-packages (from keras) (13.7.1)\n",
      "Requirement already satisfied: namex in d:\\capstone\\repos\\depression\\lib\\site-packages (from keras) (0.0.7)\n",
      "Requirement already satisfied: h5py in d:\\capstone\\repos\\depression\\lib\\site-packages (from keras) (3.10.0)\n",
      "Requirement already satisfied: optree in d:\\capstone\\repos\\depression\\lib\\site-packages (from keras) (0.11.0)\n",
      "Requirement already satisfied: ml-dtypes in d:\\capstone\\repos\\depression\\lib\\site-packages (from keras) (0.3.1)\n",
      "Requirement already satisfied: tensorflow-intel==2.16.1 in d:\\capstone\\repos\\depression\\lib\\site-packages (from tensorflow) (2.16.1)\n",
      "Requirement already satisfied: astunparse>=1.6.0 in d:\\capstone\\repos\\depression\\lib\\site-packages (from tensorflow-intel==2.16.1->tensorflow) (1.6.3)\n",
      "Requirement already satisfied: flatbuffers>=23.5.26 in d:\\capstone\\repos\\depression\\lib\\site-packages (from tensorflow-intel==2.16.1->tensorflow) (24.3.25)\n",
      "Requirement already satisfied: gast!=0.5.0,!=0.5.1,!=0.5.2,>=0.2.1 in d:\\capstone\\repos\\depression\\lib\\site-packages (from tensorflow-intel==2.16.1->tensorflow) (0.5.4)\n",
      "Requirement already satisfied: google-pasta>=0.1.1 in d:\\capstone\\repos\\depression\\lib\\site-packages (from tensorflow-intel==2.16.1->tensorflow) (0.2.0)\n",
      "Requirement already satisfied: libclang>=13.0.0 in d:\\capstone\\repos\\depression\\lib\\site-packages (from tensorflow-intel==2.16.1->tensorflow) (18.1.1)\n",
      "Requirement already satisfied: opt-einsum>=2.3.2 in d:\\capstone\\repos\\depression\\lib\\site-packages (from tensorflow-intel==2.16.1->tensorflow) (3.3.0)\n",
      "Requirement already satisfied: packaging in d:\\capstone\\repos\\depression\\lib\\site-packages (from tensorflow-intel==2.16.1->tensorflow) (24.0)\n",
      "Requirement already satisfied: protobuf!=4.21.0,!=4.21.1,!=4.21.2,!=4.21.3,!=4.21.4,!=4.21.5,<5.0.0dev,>=3.20.3 in d:\\capstone\\repos\\depression\\lib\\site-packages (from tensorflow-intel==2.16.1->tensorflow) (4.25.3)\n",
      "Requirement already satisfied: requests<3,>=2.21.0 in d:\\capstone\\repos\\depression\\lib\\site-packages (from tensorflow-intel==2.16.1->tensorflow) (2.31.0)\n",
      "Requirement already satisfied: setuptools in d:\\capstone\\repos\\depression\\lib\\site-packages (from tensorflow-intel==2.16.1->tensorflow) (65.5.0)\n",
      "Requirement already satisfied: six>=1.12.0 in d:\\capstone\\repos\\depression\\lib\\site-packages (from tensorflow-intel==2.16.1->tensorflow) (1.16.0)\n",
      "Requirement already satisfied: termcolor>=1.1.0 in d:\\capstone\\repos\\depression\\lib\\site-packages (from tensorflow-intel==2.16.1->tensorflow) (2.4.0)\n",
      "Requirement already satisfied: typing-extensions>=3.6.6 in d:\\capstone\\repos\\depression\\lib\\site-packages (from tensorflow-intel==2.16.1->tensorflow) (4.10.0)\n",
      "Requirement already satisfied: wrapt>=1.11.0 in d:\\capstone\\repos\\depression\\lib\\site-packages (from tensorflow-intel==2.16.1->tensorflow) (1.16.0)\n",
      "Requirement already satisfied: grpcio<2.0,>=1.24.3 in d:\\capstone\\repos\\depression\\lib\\site-packages (from tensorflow-intel==2.16.1->tensorflow) (1.62.1)\n",
      "Requirement already satisfied: tensorboard<2.17,>=2.16 in d:\\capstone\\repos\\depression\\lib\\site-packages (from tensorflow-intel==2.16.1->tensorflow) (2.16.2)\n",
      "Requirement already satisfied: tensorflow-io-gcs-filesystem>=0.23.1 in d:\\capstone\\repos\\depression\\lib\\site-packages (from tensorflow-intel==2.16.1->tensorflow) (0.31.0)\n",
      "Requirement already satisfied: markdown-it-py>=2.2.0 in d:\\capstone\\repos\\depression\\lib\\site-packages (from rich->keras) (3.0.0)\n",
      "Requirement already satisfied: pygments<3.0.0,>=2.13.0 in d:\\capstone\\repos\\depression\\lib\\site-packages (from rich->keras) (2.17.2)\n",
      "Requirement already satisfied: wheel<1.0,>=0.23.0 in d:\\capstone\\repos\\depression\\lib\\site-packages (from astunparse>=1.6.0->tensorflow-intel==2.16.1->tensorflow) (0.43.0)\n",
      "Requirement already satisfied: mdurl~=0.1 in d:\\capstone\\repos\\depression\\lib\\site-packages (from markdown-it-py>=2.2.0->rich->keras) (0.1.2)\n",
      "Requirement already satisfied: charset-normalizer<4,>=2 in d:\\capstone\\repos\\depression\\lib\\site-packages (from requests<3,>=2.21.0->tensorflow-intel==2.16.1->tensorflow) (3.3.2)\n",
      "Requirement already satisfied: idna<4,>=2.5 in d:\\capstone\\repos\\depression\\lib\\site-packages (from requests<3,>=2.21.0->tensorflow-intel==2.16.1->tensorflow) (3.6)\n",
      "Requirement already satisfied: urllib3<3,>=1.21.1 in d:\\capstone\\repos\\depression\\lib\\site-packages (from requests<3,>=2.21.0->tensorflow-intel==2.16.1->tensorflow) (2.2.1)\n",
      "Requirement already satisfied: certifi>=2017.4.17 in d:\\capstone\\repos\\depression\\lib\\site-packages (from requests<3,>=2.21.0->tensorflow-intel==2.16.1->tensorflow) (2024.2.2)\n",
      "Requirement already satisfied: markdown>=2.6.8 in d:\\capstone\\repos\\depression\\lib\\site-packages (from tensorboard<2.17,>=2.16->tensorflow-intel==2.16.1->tensorflow) (3.6)\n",
      "Requirement already satisfied: tensorboard-data-server<0.8.0,>=0.7.0 in d:\\capstone\\repos\\depression\\lib\\site-packages (from tensorboard<2.17,>=2.16->tensorflow-intel==2.16.1->tensorflow) (0.7.2)\n",
      "Requirement already satisfied: werkzeug>=1.0.1 in d:\\capstone\\repos\\depression\\lib\\site-packages (from tensorboard<2.17,>=2.16->tensorflow-intel==2.16.1->tensorflow) (3.0.2)\n",
      "Requirement already satisfied: MarkupSafe>=2.1.1 in d:\\capstone\\repos\\depression\\lib\\site-packages (from werkzeug>=1.0.1->tensorboard<2.17,>=2.16->tensorflow-intel==2.16.1->tensorflow) (2.1.5)\n"
     ]
    },
    {
     "name": "stderr",
     "output_type": "stream",
     "text": [
      "\n",
      "[notice] A new release of pip available: 22.3 -> 24.0\n",
      "[notice] To update, run: python.exe -m pip install --upgrade pip\n"
     ]
    }
   ],
   "source": [
    "!pip install scikit-learn keras tensorflow\n"
   ]
  },
  {
   "cell_type": "code",
   "execution_count": 41,
   "id": "f8840746",
   "metadata": {},
   "outputs": [],
   "source": [
    "import tensorflow as tf\n",
    "from tensorflow.keras.preprocessing.text import Tokenizer\n",
    "from sklearn.model_selection import train_test_split\n",
    "from keras.preprocessing.sequence import pad_sequences\n",
    "from keras.models import Sequential\n",
    "from keras.models import Model\n",
    "from keras.layers import Embedding, Bidirectional, LSTM, Dense, Input, Concatenate, Dot, Activation"
   ]
  },
  {
   "cell_type": "code",
   "execution_count": 42,
   "id": "333c42de",
   "metadata": {},
   "outputs": [],
   "source": [
    "training_data = pd.read_csv('training_data.csv')"
   ]
  },
  {
   "cell_type": "code",
   "execution_count": 43,
   "id": "d59bb3e9",
   "metadata": {},
   "outputs": [],
   "source": [
    "instagram_data = pd.read_csv('instagram_data.csv')"
   ]
  },
  {
   "cell_type": "code",
   "execution_count": 44,
   "id": "f9271148",
   "metadata": {},
   "outputs": [],
   "source": [
    "instagram_data.dropna(subset=['caption'], inplace=True)\n",
    "X_train = training_data['caption'].astype(str)\n",
    "y_train = training_data['depression_label']\n",
    "X_test = instagram_data['caption'].astype(str)"
   ]
  },
  {
   "cell_type": "code",
   "execution_count": 45,
   "id": "fae6e4bf",
   "metadata": {},
   "outputs": [],
   "source": [
    "tokenizer = Tokenizer()\n",
    "tokenizer.fit_on_texts(X_train)\n",
    "X_train_seq = tokenizer.texts_to_sequences(X_train)\n",
    "X_test_seq = tokenizer.texts_to_sequences(X_test)"
   ]
  },
  {
   "cell_type": "code",
   "execution_count": 46,
   "id": "00446c59",
   "metadata": {},
   "outputs": [],
   "source": [
    "max_len = 100  # Define your maximum sequence length\n",
    "X_train_pad = pad_sequences(X_train_seq, maxlen=max_len, padding='post')\n",
    "X_test_pad = pad_sequences(X_test_seq, maxlen=max_len, padding='post')"
   ]
  },
  {
   "cell_type": "code",
   "execution_count": 47,
   "id": "c104f5fc",
   "metadata": {},
   "outputs": [],
   "source": [
    "input_layer = Input(shape=(max_len,))\n",
    "embedding_layer = Embedding(input_dim=len(tokenizer.word_index)+1, output_dim=100)(input_layer)\n",
    "lstm_layer = Bidirectional(LSTM(64, return_sequences=True))(embedding_layer)\n",
    "attention = Dense(1, activation='tanh')(lstm_layer)\n",
    "attention = Activation('sigmoid')(attention)\n",
    "context = Dot(axes=1)([attention, lstm_layer])\n",
    "output_layer = Dense(1, activation='sigmoid')(context)\n",
    "\n",
    "model = Model(inputs=[input_layer], outputs=output_layer)"
   ]
  },
  {
   "cell_type": "code",
   "execution_count": 48,
   "id": "e7624659",
   "metadata": {},
   "outputs": [],
   "source": [
    "model.compile(optimizer='adam', loss='binary_crossentropy', metrics=['accuracy'])"
   ]
  },
  {
   "cell_type": "code",
   "execution_count": 49,
   "id": "515d795d",
   "metadata": {},
   "outputs": [
    {
     "name": "stdout",
     "output_type": "stream",
     "text": [
      "Epoch 1/10\n",
      "\u001b[1m121/121\u001b[0m \u001b[32m━━━━━━━━━━━━━━━━━━━━\u001b[0m\u001b[37m\u001b[0m \u001b[1m11s\u001b[0m 62ms/step - accuracy: 0.7858 - loss: 0.6284\n",
      "Epoch 2/10\n",
      "\u001b[1m121/121\u001b[0m \u001b[32m━━━━━━━━━━━━━━━━━━━━\u001b[0m\u001b[37m\u001b[0m \u001b[1m7s\u001b[0m 61ms/step - accuracy: 0.9573 - loss: 0.1389\n",
      "Epoch 3/10\n",
      "\u001b[1m121/121\u001b[0m \u001b[32m━━━━━━━━━━━━━━━━━━━━\u001b[0m\u001b[37m\u001b[0m \u001b[1m7s\u001b[0m 62ms/step - accuracy: 0.9796 - loss: 0.0668\n",
      "Epoch 4/10\n",
      "\u001b[1m121/121\u001b[0m \u001b[32m━━━━━━━━━━━━━━━━━━━━\u001b[0m\u001b[37m\u001b[0m \u001b[1m8s\u001b[0m 63ms/step - accuracy: 0.9868 - loss: 0.0478\n",
      "Epoch 5/10\n",
      "\u001b[1m121/121\u001b[0m \u001b[32m━━━━━━━━━━━━━━━━━━━━\u001b[0m\u001b[37m\u001b[0m \u001b[1m8s\u001b[0m 70ms/step - accuracy: 0.9905 - loss: 0.0326\n",
      "Epoch 6/10\n",
      "\u001b[1m121/121\u001b[0m \u001b[32m━━━━━━━━━━━━━━━━━━━━\u001b[0m\u001b[37m\u001b[0m \u001b[1m8s\u001b[0m 68ms/step - accuracy: 0.9947 - loss: 0.0229\n",
      "Epoch 7/10\n",
      "\u001b[1m121/121\u001b[0m \u001b[32m━━━━━━━━━━━━━━━━━━━━\u001b[0m\u001b[37m\u001b[0m \u001b[1m8s\u001b[0m 67ms/step - accuracy: 0.9943 - loss: 0.0198\n",
      "Epoch 8/10\n",
      "\u001b[1m121/121\u001b[0m \u001b[32m━━━━━━━━━━━━━━━━━━━━\u001b[0m\u001b[37m\u001b[0m \u001b[1m8s\u001b[0m 67ms/step - accuracy: 0.9960 - loss: 0.0149\n",
      "Epoch 9/10\n",
      "\u001b[1m121/121\u001b[0m \u001b[32m━━━━━━━━━━━━━━━━━━━━\u001b[0m\u001b[37m\u001b[0m \u001b[1m8s\u001b[0m 68ms/step - accuracy: 0.9965 - loss: 0.0139\n",
      "Epoch 10/10\n",
      "\u001b[1m121/121\u001b[0m \u001b[32m━━━━━━━━━━━━━━━━━━━━\u001b[0m\u001b[37m\u001b[0m \u001b[1m9s\u001b[0m 71ms/step - accuracy: 0.9976 - loss: 0.0094\n"
     ]
    },
    {
     "data": {
      "text/plain": [
       "<keras.src.callbacks.history.History at 0x56687190>"
      ]
     },
     "execution_count": 49,
     "metadata": {},
     "output_type": "execute_result"
    }
   ],
   "source": [
    "model.fit(X_train_pad, y_train, epochs=10, batch_size=64)"
   ]
  },
  {
   "cell_type": "code",
   "execution_count": 50,
   "id": "c221f47b",
   "metadata": {},
   "outputs": [
    {
     "name": "stdout",
     "output_type": "stream",
     "text": [
      "\u001b[1m1/1\u001b[0m \u001b[32m━━━━━━━━━━━━━━━━━━━━\u001b[0m\u001b[37m\u001b[0m \u001b[1m0s\u001b[0m 326ms/step\n"
     ]
    }
   ],
   "source": [
    "predicted_labels = model.predict(X_test_pad)"
   ]
  },
  {
   "cell_type": "code",
   "execution_count": 51,
   "id": "c4d98655",
   "metadata": {},
   "outputs": [],
   "source": [
    "instagram_data['predicted_depression_label'] = predicted_labels.reshape(-1)\n"
   ]
  },
  {
   "cell_type": "code",
   "execution_count": 52,
   "id": "04d49a6d",
   "metadata": {},
   "outputs": [],
   "source": [
    "depressing_captions = instagram_data[instagram_data['predicted_depression_label'] > 0.9]['caption']\n"
   ]
  },
  {
   "cell_type": "code",
   "execution_count": 53,
   "id": "b6981c3e",
   "metadata": {},
   "outputs": [],
   "source": [
    "for caption in depressing_captions:\n",
    "    print(caption)\n"
   ]
  },
  {
   "cell_type": "code",
   "execution_count": 54,
   "id": "1d4401b7",
   "metadata": {},
   "outputs": [
    {
     "data": {
      "text/html": [
       "<div>\n",
       "<style scoped>\n",
       "    .dataframe tbody tr th:only-of-type {\n",
       "        vertical-align: middle;\n",
       "    }\n",
       "\n",
       "    .dataframe tbody tr th {\n",
       "        vertical-align: top;\n",
       "    }\n",
       "\n",
       "    .dataframe thead th {\n",
       "        text-align: right;\n",
       "    }\n",
       "</style>\n",
       "<table border=\"1\" class=\"dataframe\">\n",
       "  <thead>\n",
       "    <tr style=\"text-align: right;\">\n",
       "      <th></th>\n",
       "      <th>id</th>\n",
       "      <th>caption</th>\n",
       "      <th>media_type</th>\n",
       "      <th>media_url</th>\n",
       "      <th>timestamp</th>\n",
       "      <th>predicted_depression_label</th>\n",
       "    </tr>\n",
       "  </thead>\n",
       "  <tbody>\n",
       "    <tr>\n",
       "      <th>0</th>\n",
       "      <td>18042446401450768</td>\n",
       "      <td>Well Well Well,\\nif this is how waking up on t...</td>\n",
       "      <td>CAROUSEL_ALBUM</td>\n",
       "      <td>https://scontent.cdninstagram.com/v/t51.29350-...</td>\n",
       "      <td>2023-05-12T11:39:51+0000</td>\n",
       "      <td>0.413483</td>\n",
       "    </tr>\n",
       "    <tr>\n",
       "      <th>1</th>\n",
       "      <td>17973556948825885</td>\n",
       "      <td>Soooo much fun with these guys!!❤️❤️\\n\\nOkay n...</td>\n",
       "      <td>CAROUSEL_ALBUM</td>\n",
       "      <td>https://scontent.cdninstagram.com/v/t51.29350-...</td>\n",
       "      <td>2022-12-10T19:16:14+0000</td>\n",
       "      <td>0.000171</td>\n",
       "    </tr>\n",
       "    <tr>\n",
       "      <th>2</th>\n",
       "      <td>17949428459369902</td>\n",
       "      <td>Wooooow!\\nI can't believe it and honestly this...</td>\n",
       "      <td>CAROUSEL_ALBUM</td>\n",
       "      <td>https://scontent.cdninstagram.com/v/t51.29350-...</td>\n",
       "      <td>2022-12-10T16:51:42+0000</td>\n",
       "      <td>0.097041</td>\n",
       "    </tr>\n",
       "    <tr>\n",
       "      <th>3</th>\n",
       "      <td>17915992601505552</td>\n",
       "      <td>So,we did the secret santa a bit too early (or...</td>\n",
       "      <td>CAROUSEL_ALBUM</td>\n",
       "      <td>https://scontent.cdninstagram.com/v/t51.29350-...</td>\n",
       "      <td>2022-03-22T15:48:47+0000</td>\n",
       "      <td>0.699847</td>\n",
       "    </tr>\n",
       "    <tr>\n",
       "      <th>4</th>\n",
       "      <td>17955419035656096</td>\n",
       "      <td>Ummmm a birthday post ig....\\nHad a blast!\\nTh...</td>\n",
       "      <td>CAROUSEL_ALBUM</td>\n",
       "      <td>https://scontent.cdninstagram.com/v/t51.29350-...</td>\n",
       "      <td>2022-03-13T09:01:06+0000</td>\n",
       "      <td>0.000242</td>\n",
       "    </tr>\n",
       "    <tr>\n",
       "      <th>5</th>\n",
       "      <td>17909518853372744</td>\n",
       "      <td>Kehndi Hundi Si @khajuriaarchit</td>\n",
       "      <td>IMAGE</td>\n",
       "      <td>https://scontent.cdninstagram.com/v/t51.29350-...</td>\n",
       "      <td>2022-02-01T17:24:22+0000</td>\n",
       "      <td>0.000689</td>\n",
       "    </tr>\n",
       "    <tr>\n",
       "      <th>6</th>\n",
       "      <td>17915548409185209</td>\n",
       "      <td>My Christmas present is better than yours!😌🎄✨</td>\n",
       "      <td>IMAGE</td>\n",
       "      <td>https://scontent.cdninstagram.com/v/t51.29350-...</td>\n",
       "      <td>2021-12-25T18:16:23+0000</td>\n",
       "      <td>0.000544</td>\n",
       "    </tr>\n",
       "    <tr>\n",
       "      <th>7</th>\n",
       "      <td>17933252203771714</td>\n",
       "      <td>Awkwardness is directly proportional to size e...</td>\n",
       "      <td>CAROUSEL_ALBUM</td>\n",
       "      <td>https://scontent.cdninstagram.com/v/t51.29350-...</td>\n",
       "      <td>2021-11-01T17:54:12+0000</td>\n",
       "      <td>0.000943</td>\n",
       "    </tr>\n",
       "    <tr>\n",
       "      <th>8</th>\n",
       "      <td>18123764818217370</td>\n",
       "      <td>Babe we should break up, my kurti is longer th...</td>\n",
       "      <td>IMAGE</td>\n",
       "      <td>https://scontent.cdninstagram.com/v/t51.29350-...</td>\n",
       "      <td>2021-08-09T19:01:40+0000</td>\n",
       "      <td>0.000797</td>\n",
       "    </tr>\n",
       "    <tr>\n",
       "      <th>9</th>\n",
       "      <td>17877087046978553</td>\n",
       "      <td>CARRY ON</td>\n",
       "      <td>CAROUSEL_ALBUM</td>\n",
       "      <td>https://scontent.cdninstagram.com/v/t51.29350-...</td>\n",
       "      <td>2020-11-19T13:30:16+0000</td>\n",
       "      <td>0.001683</td>\n",
       "    </tr>\n",
       "    <tr>\n",
       "      <th>10</th>\n",
       "      <td>18170228749039334</td>\n",
       "      <td>Confidence level: Kanye West</td>\n",
       "      <td>IMAGE</td>\n",
       "      <td>https://scontent.cdninstagram.com/v/t51.29350-...</td>\n",
       "      <td>2020-10-23T16:50:24+0000</td>\n",
       "      <td>0.000685</td>\n",
       "    </tr>\n",
       "    <tr>\n",
       "      <th>11</th>\n",
       "      <td>17870646019798745</td>\n",
       "      <td>Throwback to 2016!\\nWas so livid back then aft...</td>\n",
       "      <td>IMAGE</td>\n",
       "      <td>https://scontent.cdninstagram.com/v/t51.2885-1...</td>\n",
       "      <td>2020-06-19T15:24:32+0000</td>\n",
       "      <td>0.000592</td>\n",
       "    </tr>\n",
       "    <tr>\n",
       "      <th>12</th>\n",
       "      <td>18100153813145770</td>\n",
       "      <td>Happy Birthday Di!❤️🥳🥳\\nThanks for being such ...</td>\n",
       "      <td>CAROUSEL_ALBUM</td>\n",
       "      <td>https://scontent.cdninstagram.com/v/t51.2885-1...</td>\n",
       "      <td>2020-05-20T18:14:11+0000</td>\n",
       "      <td>0.000242</td>\n",
       "    </tr>\n",
       "    <tr>\n",
       "      <th>13</th>\n",
       "      <td>17851444100038840</td>\n",
       "      <td>Happy Birthday Papa!\\nI would keep on making f...</td>\n",
       "      <td>CAROUSEL_ALBUM</td>\n",
       "      <td>https://scontent.cdninstagram.com/v/t51.2885-1...</td>\n",
       "      <td>2020-05-18T17:38:55+0000</td>\n",
       "      <td>0.000838</td>\n",
       "    </tr>\n",
       "    <tr>\n",
       "      <th>14</th>\n",
       "      <td>18141022786041614</td>\n",
       "      <td>#tbt to last year!!I was so excited to hear th...</td>\n",
       "      <td>IMAGE</td>\n",
       "      <td>https://scontent.cdninstagram.com/v/t51.2885-1...</td>\n",
       "      <td>2020-05-07T06:56:43+0000</td>\n",
       "      <td>0.002244</td>\n",
       "    </tr>\n",
       "    <tr>\n",
       "      <th>15</th>\n",
       "      <td>17870305297727004</td>\n",
       "      <td>Run to the rescue with love and peace will fol...</td>\n",
       "      <td>IMAGE</td>\n",
       "      <td>https://scontent.cdninstagram.com/v/t51.2885-1...</td>\n",
       "      <td>2020-04-30T06:22:53+0000</td>\n",
       "      <td>0.000371</td>\n",
       "    </tr>\n",
       "  </tbody>\n",
       "</table>\n",
       "</div>"
      ],
      "text/plain": [
       "                   id                                            caption  \\\n",
       "0   18042446401450768  Well Well Well,\\nif this is how waking up on t...   \n",
       "1   17973556948825885  Soooo much fun with these guys!!❤️❤️\\n\\nOkay n...   \n",
       "2   17949428459369902  Wooooow!\\nI can't believe it and honestly this...   \n",
       "3   17915992601505552  So,we did the secret santa a bit too early (or...   \n",
       "4   17955419035656096  Ummmm a birthday post ig....\\nHad a blast!\\nTh...   \n",
       "5   17909518853372744                    Kehndi Hundi Si @khajuriaarchit   \n",
       "6   17915548409185209      My Christmas present is better than yours!😌🎄✨   \n",
       "7   17933252203771714  Awkwardness is directly proportional to size e...   \n",
       "8   18123764818217370  Babe we should break up, my kurti is longer th...   \n",
       "9   17877087046978553                                           CARRY ON   \n",
       "10  18170228749039334                       Confidence level: Kanye West   \n",
       "11  17870646019798745  Throwback to 2016!\\nWas so livid back then aft...   \n",
       "12  18100153813145770  Happy Birthday Di!❤️🥳🥳\\nThanks for being such ...   \n",
       "13  17851444100038840  Happy Birthday Papa!\\nI would keep on making f...   \n",
       "14  18141022786041614  #tbt to last year!!I was so excited to hear th...   \n",
       "15  17870305297727004  Run to the rescue with love and peace will fol...   \n",
       "\n",
       "        media_type                                          media_url  \\\n",
       "0   CAROUSEL_ALBUM  https://scontent.cdninstagram.com/v/t51.29350-...   \n",
       "1   CAROUSEL_ALBUM  https://scontent.cdninstagram.com/v/t51.29350-...   \n",
       "2   CAROUSEL_ALBUM  https://scontent.cdninstagram.com/v/t51.29350-...   \n",
       "3   CAROUSEL_ALBUM  https://scontent.cdninstagram.com/v/t51.29350-...   \n",
       "4   CAROUSEL_ALBUM  https://scontent.cdninstagram.com/v/t51.29350-...   \n",
       "5            IMAGE  https://scontent.cdninstagram.com/v/t51.29350-...   \n",
       "6            IMAGE  https://scontent.cdninstagram.com/v/t51.29350-...   \n",
       "7   CAROUSEL_ALBUM  https://scontent.cdninstagram.com/v/t51.29350-...   \n",
       "8            IMAGE  https://scontent.cdninstagram.com/v/t51.29350-...   \n",
       "9   CAROUSEL_ALBUM  https://scontent.cdninstagram.com/v/t51.29350-...   \n",
       "10           IMAGE  https://scontent.cdninstagram.com/v/t51.29350-...   \n",
       "11           IMAGE  https://scontent.cdninstagram.com/v/t51.2885-1...   \n",
       "12  CAROUSEL_ALBUM  https://scontent.cdninstagram.com/v/t51.2885-1...   \n",
       "13  CAROUSEL_ALBUM  https://scontent.cdninstagram.com/v/t51.2885-1...   \n",
       "14           IMAGE  https://scontent.cdninstagram.com/v/t51.2885-1...   \n",
       "15           IMAGE  https://scontent.cdninstagram.com/v/t51.2885-1...   \n",
       "\n",
       "                   timestamp  predicted_depression_label  \n",
       "0   2023-05-12T11:39:51+0000                    0.413483  \n",
       "1   2022-12-10T19:16:14+0000                    0.000171  \n",
       "2   2022-12-10T16:51:42+0000                    0.097041  \n",
       "3   2022-03-22T15:48:47+0000                    0.699847  \n",
       "4   2022-03-13T09:01:06+0000                    0.000242  \n",
       "5   2022-02-01T17:24:22+0000                    0.000689  \n",
       "6   2021-12-25T18:16:23+0000                    0.000544  \n",
       "7   2021-11-01T17:54:12+0000                    0.000943  \n",
       "8   2021-08-09T19:01:40+0000                    0.000797  \n",
       "9   2020-11-19T13:30:16+0000                    0.001683  \n",
       "10  2020-10-23T16:50:24+0000                    0.000685  \n",
       "11  2020-06-19T15:24:32+0000                    0.000592  \n",
       "12  2020-05-20T18:14:11+0000                    0.000242  \n",
       "13  2020-05-18T17:38:55+0000                    0.000838  \n",
       "14  2020-05-07T06:56:43+0000                    0.002244  \n",
       "15  2020-04-30T06:22:53+0000                    0.000371  "
      ]
     },
     "execution_count": 54,
     "metadata": {},
     "output_type": "execute_result"
    }
   ],
   "source": [
    "instagram_data"
   ]
  },
  {
   "cell_type": "code",
   "execution_count": null,
   "id": "b2ff5336",
   "metadata": {},
   "outputs": [],
   "source": []
  }
 ],
 "metadata": {
  "kernelspec": {
   "display_name": "Python 3 (ipykernel)",
   "language": "python",
   "name": "python3"
  },
  "language_info": {
   "codemirror_mode": {
    "name": "ipython",
    "version": 3
   },
   "file_extension": ".py",
   "mimetype": "text/x-python",
   "name": "python",
   "nbconvert_exporter": "python",
   "pygments_lexer": "ipython3",
   "version": "3.11.0"
  }
 },
 "nbformat": 4,
 "nbformat_minor": 5
}
