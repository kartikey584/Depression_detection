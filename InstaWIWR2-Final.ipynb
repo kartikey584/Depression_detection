{
 "cells": [
  {
   "cell_type": "code",
   "execution_count": 2,
   "id": "96b07e0c",
   "metadata": {
    "scrolled": true
   },
   "outputs": [
    {
     "name": "stdout",
     "output_type": "stream",
     "text": [
      "Requirement already satisfied: beautifulsoup4 in d:\\capstone\\repos\\depression\\lib\\site-packages (4.12.3)\n",
      "Requirement already satisfied: requests in d:\\capstone\\repos\\depression\\lib\\site-packages (2.31.0)\n",
      "Requirement already satisfied: pandas in d:\\capstone\\repos\\depression\\lib\\site-packages (2.2.1)\n",
      "Requirement already satisfied: matplotlib in d:\\capstone\\repos\\depression\\lib\\site-packages (3.8.3)\n",
      "Requirement already satisfied: plotly in d:\\capstone\\repos\\depression\\lib\\site-packages (5.21.0)\n",
      "Requirement already satisfied: soupsieve>1.2 in d:\\capstone\\repos\\depression\\lib\\site-packages (from beautifulsoup4) (2.5)\n",
      "Requirement already satisfied: charset-normalizer<4,>=2 in d:\\capstone\\repos\\depression\\lib\\site-packages (from requests) (3.3.2)\n",
      "Requirement already satisfied: idna<4,>=2.5 in d:\\capstone\\repos\\depression\\lib\\site-packages (from requests) (3.6)\n",
      "Requirement already satisfied: urllib3<3,>=1.21.1 in d:\\capstone\\repos\\depression\\lib\\site-packages (from requests) (2.2.1)\n",
      "Requirement already satisfied: certifi>=2017.4.17 in d:\\capstone\\repos\\depression\\lib\\site-packages (from requests) (2024.2.2)\n",
      "Requirement already satisfied: numpy<2,>=1.26.0 in d:\\capstone\\repos\\depression\\lib\\site-packages (from pandas) (1.26.4)\n",
      "Requirement already satisfied: python-dateutil>=2.8.2 in d:\\capstone\\repos\\depression\\lib\\site-packages (from pandas) (2.9.0.post0)\n",
      "Requirement already satisfied: pytz>=2020.1 in d:\\capstone\\repos\\depression\\lib\\site-packages (from pandas) (2024.1)\n",
      "Requirement already satisfied: tzdata>=2022.7 in d:\\capstone\\repos\\depression\\lib\\site-packages (from pandas) (2024.1)\n",
      "Requirement already satisfied: contourpy>=1.0.1 in d:\\capstone\\repos\\depression\\lib\\site-packages (from matplotlib) (1.2.0)\n",
      "Requirement already satisfied: cycler>=0.10 in d:\\capstone\\repos\\depression\\lib\\site-packages (from matplotlib) (0.12.1)\n",
      "Requirement already satisfied: fonttools>=4.22.0 in d:\\capstone\\repos\\depression\\lib\\site-packages (from matplotlib) (4.50.0)\n",
      "Requirement already satisfied: kiwisolver>=1.3.1 in d:\\capstone\\repos\\depression\\lib\\site-packages (from matplotlib) (1.4.5)\n",
      "Requirement already satisfied: packaging>=20.0 in d:\\capstone\\repos\\depression\\lib\\site-packages (from matplotlib) (24.0)\n",
      "Requirement already satisfied: pillow>=8 in d:\\capstone\\repos\\depression\\lib\\site-packages (from matplotlib) (10.3.0)\n",
      "Requirement already satisfied: pyparsing>=2.3.1 in d:\\capstone\\repos\\depression\\lib\\site-packages (from matplotlib) (3.1.2)\n",
      "Requirement already satisfied: tenacity>=6.2.0 in d:\\capstone\\repos\\depression\\lib\\site-packages (from plotly) (8.2.3)\n",
      "Requirement already satisfied: six>=1.5 in d:\\capstone\\repos\\depression\\lib\\site-packages (from python-dateutil>=2.8.2->pandas) (1.16.0)\n"
     ]
    }
   ],
   "source": [
    "!pip install beautifulsoup4 requests pandas matplotlib plotly"
   ]
  },
  {
   "cell_type": "code",
   "execution_count": 1,
   "id": "bc4be2f6",
   "metadata": {},
   "outputs": [],
   "source": [
    "import requests\n",
    "import pandas as pd"
   ]
  },
  {
   "cell_type": "code",
   "execution_count": 5,
   "id": "e36eb226",
   "metadata": {},
   "outputs": [],
   "source": [
    "url = f'https://graph.instagram.com/me/media?fields=id,caption,media_type,media_url,timestamp&access_token=IGQWRPYnVsc3AyaTVwZAG5LcEJ4MGxNc280ZAlpFSUY3aUxFbEFIalAyWWNOQ1BTUUh4N0luT3RXZAG93RjFtek4yV3hiYkNvZAGdpcWtxclR5cHVldmxsd2duV0dKeUtBTWh0YXM0RmpfSk56OEUwTVUwVlFTUDY0SVpldTN2MmRkNGdpUQZDZD'"
   ]
  },
  {
   "cell_type": "code",
   "execution_count": 6,
   "id": "65ce47c5",
   "metadata": {},
   "outputs": [],
   "source": [
    "response = requests.get(url)"
   ]
  },
  {
   "cell_type": "code",
   "execution_count": 7,
   "id": "48208fee",
   "metadata": {},
   "outputs": [],
   "source": [
    "if response.status_code == 200:\n",
    "    data = response.json()\n",
    "else:\n",
    "    print(\"Error making the API request:\", response.text)\n",
    "    data = None"
   ]
  },
  {
   "cell_type": "code",
   "execution_count": 8,
   "id": "c1e96d4f",
   "metadata": {},
   "outputs": [
    {
     "data": {
      "text/plain": [
       "{'data': [{'id': '18049687408639342',\n",
       "   'caption': 'It gets tougher everyday',\n",
       "   'media_type': 'IMAGE',\n",
       "   'media_url': 'https://scontent.cdninstagram.com/v/t51.29350-15/440914603_1148341009700329_8794870000605352566_n.jpg?_nc_cat=105&ccb=1-7&_nc_sid=18de74&_nc_ohc=5CeyvfsYTl0Q7kNvgFC79b1&_nc_ht=scontent.cdninstagram.com&edm=ANo9K5cEAAAA&oh=00_AfBYzJ7ICjFMv6Y-znZpjX0B7K-0l4etyKir0bocJWbYyA&oe=663BD352',\n",
       "   'timestamp': '2024-05-04T10:29:34+0000'}],\n",
       " 'paging': {'cursors': {'before': 'QVFIUmwwb1FXR3NxeU5ZAUWptdDBFVlJQSU1PbVprMk9GTHMxSHdwZAk42OGNyRzhab3gwWFE1TEJvTUlmdTg5MVZArU3BWMm84MHByaFZA0cTcwR1hVa2h2M3lR',\n",
       "   'after': 'QVFIUmwwb1FXR3NxeU5ZAUWptdDBFVlJQSU1PbVprMk9GTHMxSHdwZAk42OGNyRzhab3gwWFE1TEJvTUlmdTg5MVZArU3BWMm84MHByaFZA0cTcwR1hVa2h2M3lR'}}}"
      ]
     },
     "execution_count": 8,
     "metadata": {},
     "output_type": "execute_result"
    }
   ],
   "source": [
    "data"
   ]
  },
  {
   "cell_type": "code",
   "execution_count": 38,
   "id": "41e9a646",
   "metadata": {},
   "outputs": [],
   "source": [
    "if data:\n",
    "    df = pd.DataFrame(data['data'])  # Assuming 'data' is a dictionary containing 'data' key with a list of records\n",
    "else:\n",
    "    df = pd.DataFrame(columns=['id', 'caption','mediatype','media_url','timestamp'])\n"
   ]
  },
  {
   "cell_type": "code",
   "execution_count": 39,
   "id": "0fa1078b",
   "metadata": {
    "scrolled": true
   },
   "outputs": [
    {
     "name": "stdout",
     "output_type": "stream",
     "text": [
      "                   id                                            caption  \\\n",
      "0   18042446401450768  Well Well Well,\\nif this is how waking up on t...   \n",
      "1   17973556948825885  Soooo much fun with these guys!!❤️❤️\\n\\nOkay n...   \n",
      "2   17949428459369902  Wooooow!\\nI can't believe it and honestly this...   \n",
      "3   17915992601505552  So,we did the secret santa a bit too early (or...   \n",
      "4   17955419035656096  Ummmm a birthday post ig....\\nHad a blast!\\nTh...   \n",
      "5   17909518853372744                    Kehndi Hundi Si @khajuriaarchit   \n",
      "6   17915548409185209      My Christmas present is better than yours!😌🎄✨   \n",
      "7   17933252203771714  Awkwardness is directly proportional to size e...   \n",
      "8   18123764818217370  Babe we should break up, my kurti is longer th...   \n",
      "9   17877087046978553                                           CARRY ON   \n",
      "10  18170228749039334                       Confidence level: Kanye West   \n",
      "11  17870646019798745  Throwback to 2016!\\nWas so livid back then aft...   \n",
      "12  18100153813145770  Happy Birthday Di!❤️🥳🥳\\nThanks for being such ...   \n",
      "13  17851444100038840  Happy Birthday Papa!\\nI would keep on making f...   \n",
      "14  18141022786041614  #tbt to last year!!I was so excited to hear th...   \n",
      "15  17870305297727004  Run to the rescue with love and peace will fol...   \n",
      "\n",
      "        media_type                                          media_url  \\\n",
      "0   CAROUSEL_ALBUM  https://scontent.cdninstagram.com/v/t51.29350-...   \n",
      "1   CAROUSEL_ALBUM  https://scontent.cdninstagram.com/v/t51.29350-...   \n",
      "2   CAROUSEL_ALBUM  https://scontent.cdninstagram.com/v/t51.29350-...   \n",
      "3   CAROUSEL_ALBUM  https://scontent.cdninstagram.com/v/t51.29350-...   \n",
      "4   CAROUSEL_ALBUM  https://scontent.cdninstagram.com/v/t51.29350-...   \n",
      "5            IMAGE  https://scontent.cdninstagram.com/v/t51.29350-...   \n",
      "6            IMAGE  https://scontent.cdninstagram.com/v/t51.29350-...   \n",
      "7   CAROUSEL_ALBUM  https://scontent.cdninstagram.com/v/t51.29350-...   \n",
      "8            IMAGE  https://scontent.cdninstagram.com/v/t51.29350-...   \n",
      "9   CAROUSEL_ALBUM  https://scontent.cdninstagram.com/v/t51.29350-...   \n",
      "10           IMAGE  https://scontent.cdninstagram.com/v/t51.29350-...   \n",
      "11           IMAGE  https://scontent.cdninstagram.com/v/t51.2885-1...   \n",
      "12  CAROUSEL_ALBUM  https://scontent.cdninstagram.com/v/t51.2885-1...   \n",
      "13  CAROUSEL_ALBUM  https://scontent.cdninstagram.com/v/t51.2885-1...   \n",
      "14           IMAGE  https://scontent.cdninstagram.com/v/t51.2885-1...   \n",
      "15           IMAGE  https://scontent.cdninstagram.com/v/t51.2885-1...   \n",
      "\n",
      "                   timestamp  \n",
      "0   2023-05-12T11:39:51+0000  \n",
      "1   2022-12-10T19:16:14+0000  \n",
      "2   2022-12-10T16:51:42+0000  \n",
      "3   2022-03-22T15:48:47+0000  \n",
      "4   2022-03-13T09:01:06+0000  \n",
      "5   2022-02-01T17:24:22+0000  \n",
      "6   2021-12-25T18:16:23+0000  \n",
      "7   2021-11-01T17:54:12+0000  \n",
      "8   2021-08-09T19:01:40+0000  \n",
      "9   2020-11-19T13:30:16+0000  \n",
      "10  2020-10-23T16:50:24+0000  \n",
      "11  2020-06-19T15:24:32+0000  \n",
      "12  2020-05-20T18:14:11+0000  \n",
      "13  2020-05-18T17:38:55+0000  \n",
      "14  2020-05-07T06:56:43+0000  \n",
      "15  2020-04-30T06:22:53+0000  \n"
     ]
    }
   ],
   "source": [
    "print(df)"
   ]
  },
  {
   "cell_type": "code",
   "execution_count": 40,
   "id": "0b1b3b7e",
   "metadata": {},
   "outputs": [],
   "source": [
    "df.to_csv('instagram_data.csv', index=False)"
   ]
  },
  {
   "cell_type": "code",
   "execution_count": 2,
   "id": "14dd736b",
   "metadata": {},
   "outputs": [
    {
     "name": "stdout",
     "output_type": "stream",
     "text": [
      "Requirement already satisfied: scikit-learn in d:\\capstone\\repos\\depression\\lib\\site-packages (1.4.1.post1)\n",
      "Requirement already satisfied: keras in d:\\capstone\\repos\\depression\\lib\\site-packages (3.1.1)\n",
      "Requirement already satisfied: tensorflow in d:\\capstone\\repos\\depression\\lib\\site-packages (2.16.1)\n",
      "Requirement already satisfied: numpy<2.0,>=1.19.5 in d:\\capstone\\repos\\depression\\lib\\site-packages (from scikit-learn) (1.26.4)\n",
      "Requirement already satisfied: scipy>=1.6.0 in d:\\capstone\\repos\\depression\\lib\\site-packages (from scikit-learn) (1.12.0)\n",
      "Requirement already satisfied: joblib>=1.2.0 in d:\\capstone\\repos\\depression\\lib\\site-packages (from scikit-learn) (1.3.2)\n",
      "Requirement already satisfied: threadpoolctl>=2.0.0 in d:\\capstone\\repos\\depression\\lib\\site-packages (from scikit-learn) (3.4.0)\n",
      "Requirement already satisfied: absl-py in d:\\capstone\\repos\\depression\\lib\\site-packages (from keras) (2.1.0)\n",
      "Requirement already satisfied: rich in d:\\capstone\\repos\\depression\\lib\\site-packages (from keras) (13.7.1)\n",
      "Requirement already satisfied: namex in d:\\capstone\\repos\\depression\\lib\\site-packages (from keras) (0.0.7)\n",
      "Requirement already satisfied: h5py in d:\\capstone\\repos\\depression\\lib\\site-packages (from keras) (3.10.0)\n",
      "Requirement already satisfied: optree in d:\\capstone\\repos\\depression\\lib\\site-packages (from keras) (0.11.0)\n",
      "Requirement already satisfied: ml-dtypes in d:\\capstone\\repos\\depression\\lib\\site-packages (from keras) (0.3.1)\n",
      "Requirement already satisfied: tensorflow-intel==2.16.1 in d:\\capstone\\repos\\depression\\lib\\site-packages (from tensorflow) (2.16.1)\n",
      "Requirement already satisfied: astunparse>=1.6.0 in d:\\capstone\\repos\\depression\\lib\\site-packages (from tensorflow-intel==2.16.1->tensorflow) (1.6.3)\n",
      "Requirement already satisfied: flatbuffers>=23.5.26 in d:\\capstone\\repos\\depression\\lib\\site-packages (from tensorflow-intel==2.16.1->tensorflow) (24.3.25)\n",
      "Requirement already satisfied: gast!=0.5.0,!=0.5.1,!=0.5.2,>=0.2.1 in d:\\capstone\\repos\\depression\\lib\\site-packages (from tensorflow-intel==2.16.1->tensorflow) (0.5.4)\n",
      "Requirement already satisfied: google-pasta>=0.1.1 in d:\\capstone\\repos\\depression\\lib\\site-packages (from tensorflow-intel==2.16.1->tensorflow) (0.2.0)\n",
      "Requirement already satisfied: libclang>=13.0.0 in d:\\capstone\\repos\\depression\\lib\\site-packages (from tensorflow-intel==2.16.1->tensorflow) (18.1.1)\n",
      "Requirement already satisfied: opt-einsum>=2.3.2 in d:\\capstone\\repos\\depression\\lib\\site-packages (from tensorflow-intel==2.16.1->tensorflow) (3.3.0)\n",
      "Requirement already satisfied: packaging in d:\\capstone\\repos\\depression\\lib\\site-packages (from tensorflow-intel==2.16.1->tensorflow) (24.0)\n",
      "Requirement already satisfied: protobuf!=4.21.0,!=4.21.1,!=4.21.2,!=4.21.3,!=4.21.4,!=4.21.5,<5.0.0dev,>=3.20.3 in d:\\capstone\\repos\\depression\\lib\\site-packages (from tensorflow-intel==2.16.1->tensorflow) (4.25.3)\n",
      "Requirement already satisfied: requests<3,>=2.21.0 in d:\\capstone\\repos\\depression\\lib\\site-packages (from tensorflow-intel==2.16.1->tensorflow) (2.31.0)\n",
      "Requirement already satisfied: setuptools in d:\\capstone\\repos\\depression\\lib\\site-packages (from tensorflow-intel==2.16.1->tensorflow) (65.5.0)\n",
      "Requirement already satisfied: six>=1.12.0 in d:\\capstone\\repos\\depression\\lib\\site-packages (from tensorflow-intel==2.16.1->tensorflow) (1.16.0)\n",
      "Requirement already satisfied: termcolor>=1.1.0 in d:\\capstone\\repos\\depression\\lib\\site-packages (from tensorflow-intel==2.16.1->tensorflow) (2.4.0)\n",
      "Requirement already satisfied: typing-extensions>=3.6.6 in d:\\capstone\\repos\\depression\\lib\\site-packages (from tensorflow-intel==2.16.1->tensorflow) (4.10.0)\n",
      "Requirement already satisfied: wrapt>=1.11.0 in d:\\capstone\\repos\\depression\\lib\\site-packages (from tensorflow-intel==2.16.1->tensorflow) (1.16.0)\n",
      "Requirement already satisfied: grpcio<2.0,>=1.24.3 in d:\\capstone\\repos\\depression\\lib\\site-packages (from tensorflow-intel==2.16.1->tensorflow) (1.62.1)\n",
      "Requirement already satisfied: tensorboard<2.17,>=2.16 in d:\\capstone\\repos\\depression\\lib\\site-packages (from tensorflow-intel==2.16.1->tensorflow) (2.16.2)\n",
      "Requirement already satisfied: tensorflow-io-gcs-filesystem>=0.23.1 in d:\\capstone\\repos\\depression\\lib\\site-packages (from tensorflow-intel==2.16.1->tensorflow) (0.31.0)\n",
      "Requirement already satisfied: markdown-it-py>=2.2.0 in d:\\capstone\\repos\\depression\\lib\\site-packages (from rich->keras) (3.0.0)\n",
      "Requirement already satisfied: pygments<3.0.0,>=2.13.0 in d:\\capstone\\repos\\depression\\lib\\site-packages (from rich->keras) (2.17.2)\n",
      "Requirement already satisfied: wheel<1.0,>=0.23.0 in d:\\capstone\\repos\\depression\\lib\\site-packages (from astunparse>=1.6.0->tensorflow-intel==2.16.1->tensorflow) (0.43.0)\n",
      "Requirement already satisfied: mdurl~=0.1 in d:\\capstone\\repos\\depression\\lib\\site-packages (from markdown-it-py>=2.2.0->rich->keras) (0.1.2)\n",
      "Requirement already satisfied: charset-normalizer<4,>=2 in d:\\capstone\\repos\\depression\\lib\\site-packages (from requests<3,>=2.21.0->tensorflow-intel==2.16.1->tensorflow) (3.3.2)\n",
      "Requirement already satisfied: idna<4,>=2.5 in d:\\capstone\\repos\\depression\\lib\\site-packages (from requests<3,>=2.21.0->tensorflow-intel==2.16.1->tensorflow) (3.6)\n",
      "Requirement already satisfied: urllib3<3,>=1.21.1 in d:\\capstone\\repos\\depression\\lib\\site-packages (from requests<3,>=2.21.0->tensorflow-intel==2.16.1->tensorflow) (2.2.1)\n",
      "Requirement already satisfied: certifi>=2017.4.17 in d:\\capstone\\repos\\depression\\lib\\site-packages (from requests<3,>=2.21.0->tensorflow-intel==2.16.1->tensorflow) (2024.2.2)\n",
      "Requirement already satisfied: markdown>=2.6.8 in d:\\capstone\\repos\\depression\\lib\\site-packages (from tensorboard<2.17,>=2.16->tensorflow-intel==2.16.1->tensorflow) (3.6)\n",
      "Requirement already satisfied: tensorboard-data-server<0.8.0,>=0.7.0 in d:\\capstone\\repos\\depression\\lib\\site-packages (from tensorboard<2.17,>=2.16->tensorflow-intel==2.16.1->tensorflow) (0.7.2)\n",
      "Requirement already satisfied: werkzeug>=1.0.1 in d:\\capstone\\repos\\depression\\lib\\site-packages (from tensorboard<2.17,>=2.16->tensorflow-intel==2.16.1->tensorflow) (3.0.2)\n",
      "Requirement already satisfied: MarkupSafe>=2.1.1 in d:\\capstone\\repos\\depression\\lib\\site-packages (from werkzeug>=1.0.1->tensorboard<2.17,>=2.16->tensorflow-intel==2.16.1->tensorflow) (2.1.5)\n"
     ]
    },
    {
     "name": "stderr",
     "output_type": "stream",
     "text": [
      "\n",
      "[notice] A new release of pip available: 22.3 -> 24.0\n",
      "[notice] To update, run: python.exe -m pip install --upgrade pip\n"
     ]
    }
   ],
   "source": [
    "!pip install scikit-learn keras tensorflow\n"
   ]
  },
  {
   "cell_type": "code",
   "execution_count": 41,
   "id": "f8840746",
   "metadata": {},
   "outputs": [],
   "source": [
    "import tensorflow as tf\n",
    "from tensorflow.keras.preprocessing.text import Tokenizer\n",
    "from sklearn.model_selection import train_test_split\n",
    "from keras.preprocessing.sequence import pad_sequences\n",
    "from keras.models import Sequential\n",
    "from keras.models import Model\n",
    "from keras.layers import Embedding, Bidirectional, LSTM, Dense, Input, Concatenate, Dot, Activation"
   ]
  },
  {
   "cell_type": "code",
   "execution_count": 42,
   "id": "333c42de",
   "metadata": {},
   "outputs": [],
   "source": [
    "training_data = pd.read_csv('training_data.csv')"
   ]
  },
  {
   "cell_type": "code",
   "execution_count": 43,
   "id": "d59bb3e9",
   "metadata": {},
   "outputs": [],
   "source": [
    "instagram_data = pd.read_csv('instagram_data.csv')"
   ]
  },
  {
   "cell_type": "code",
   "execution_count": 44,
   "id": "f9271148",
   "metadata": {},
   "outputs": [],
   "source": [
    "instagram_data.dropna(subset=['caption'], inplace=True)\n",
    "X_train = training_data['caption'].astype(str)\n",
    "y_train = training_data['depression_label']\n",
    "X_test = instagram_data['caption'].astype(str)"
   ]
  },
  {
   "cell_type": "code",
   "execution_count": 45,
   "id": "fae6e4bf",
   "metadata": {},
   "outputs": [],
   "source": [
    "tokenizer = Tokenizer()\n",
    "tokenizer.fit_on_texts(X_train)\n",
    "X_train_seq = tokenizer.texts_to_sequences(X_train)\n",
    "X_test_seq = tokenizer.texts_to_sequences(X_test)"
   ]
  },
  {
   "cell_type": "code",
   "execution_count": 46,
   "id": "00446c59",
   "metadata": {},
   "outputs": [],
   "source": [
    "max_len = 100  # Define your maximum sequence length\n",
    "X_train_pad = pad_sequences(X_train_seq, maxlen=max_len, padding='post')\n",
    "X_test_pad = pad_sequences(X_test_seq, maxlen=max_len, padding='post')"
   ]
  },
  {
   "cell_type": "code",
   "execution_count": 47,
   "id": "c104f5fc",
   "metadata": {},
   "outputs": [],
   "source": [
    "input_layer = Input(shape=(max_len,))\n",
    "embedding_layer = Embedding(input_dim=len(tokenizer.word_index)+1, output_dim=100)(input_layer)\n",
    "lstm_layer = Bidirectional(LSTM(64, return_sequences=True))(embedding_layer)\n",
    "attention = Dense(1, activation='tanh')(lstm_layer)\n",
    "attention = Activation('sigmoid')(attention)\n",
    "context = Dot(axes=1)([attention, lstm_layer])\n",
    "output_layer = Dense(1, activation='sigmoid')(context)\n",
    "\n",
    "model = Model(inputs=[input_layer], outputs=output_layer)"
   ]
  },
  {
   "cell_type": "code",
   "execution_count": 48,
   "id": "e7624659",
   "metadata": {},
   "outputs": [],
   "source": [
    "model.compile(optimizer='adam', loss='binary_crossentropy', metrics=['accuracy'])"
   ]
  },
  {
   "cell_type": "code",
   "execution_count": 49,
   "id": "515d795d",
   "metadata": {},
   "outputs": [
    {
     "name": "stdout",
     "output_type": "stream",
     "text": [
      "Epoch 1/10\n",
      "\u001b[1m121/121\u001b[0m \u001b[32m━━━━━━━━━━━━━━━━━━━━\u001b[0m\u001b[37m\u001b[0m \u001b[1m11s\u001b[0m 62ms/step - accuracy: 0.7858 - loss: 0.6284\n",
      "Epoch 2/10\n",
      "\u001b[1m121/121\u001b[0m \u001b[32m━━━━━━━━━━━━━━━━━━━━\u001b[0m\u001b[37m\u001b[0m \u001b[1m7s\u001b[0m 61ms/step - accuracy: 0.9573 - loss: 0.1389\n",
      "Epoch 3/10\n",
      "\u001b[1m121/121\u001b[0m \u001b[32m━━━━━━━━━━━━━━━━━━━━\u001b[0m\u001b[37m\u001b[0m \u001b[1m7s\u001b[0m 62ms/step - accuracy: 0.9796 - loss: 0.0668\n",
      "Epoch 4/10\n",
      "\u001b[1m121/121\u001b[0m \u001b[32m━━━━━━━━━━━━━━━━━━━━\u001b[0m\u001b[37m\u001b[0m \u001b[1m8s\u001b[0m 63ms/step - accuracy: 0.9868 - loss: 0.0478\n",
      "Epoch 5/10\n",
      "\u001b[1m121/121\u001b[0m \u001b[32m━━━━━━━━━━━━━━━━━━━━\u001b[0m\u001b[37m\u001b[0m \u001b[1m8s\u001b[0m 70ms/step - accuracy: 0.9905 - loss: 0.0326\n",
      "Epoch 6/10\n",
      "\u001b[1m121/121\u001b[0m \u001b[32m━━━━━━━━━━━━━━━━━━━━\u001b[0m\u001b[37m\u001b[0m \u001b[1m8s\u001b[0m 68ms/step - accuracy: 0.9947 - loss: 0.0229\n",
      "Epoch 7/10\n",
      "\u001b[1m121/121\u001b[0m \u001b[32m━━━━━━━━━━━━━━━━━━━━\u001b[0m\u001b[37m\u001b[0m \u001b[1m8s\u001b[0m 67ms/step - accuracy: 0.9943 - loss: 0.0198\n",
      "Epoch 8/10\n",
      "\u001b[1m121/121\u001b[0m \u001b[32m━━━━━━━━━━━━━━━━━━━━\u001b[0m\u001b[37m\u001b[0m \u001b[1m8s\u001b[0m 67ms/step - accuracy: 0.9960 - loss: 0.0149\n",
      "Epoch 9/10\n",
      "\u001b[1m121/121\u001b[0m \u001b[32m━━━━━━━━━━━━━━━━━━━━\u001b[0m\u001b[37m\u001b[0m \u001b[1m8s\u001b[0m 68ms/step - accuracy: 0.9965 - loss: 0.0139\n",
      "Epoch 10/10\n",
      "\u001b[1m121/121\u001b[0m \u001b[32m━━━━━━━━━━━━━━━━━━━━\u001b[0m\u001b[37m\u001b[0m \u001b[1m9s\u001b[0m 71ms/step - accuracy: 0.9976 - loss: 0.0094\n"
     ]
    },
    {
     "data": {
      "text/plain": [
       "<keras.src.callbacks.history.History at 0x56687190>"
      ]
     },
     "execution_count": 49,
     "metadata": {},
     "output_type": "execute_result"
    }
   ],
   "source": [
    "model.fit(X_train_pad, y_train, epochs=10, batch_size=64)"
   ]
  },
  {
   "cell_type": "code",
   "execution_count": 50,
   "id": "c221f47b",
   "metadata": {},
   "outputs": [
    {
     "name": "stdout",
     "output_type": "stream",
     "text": [
      "\u001b[1m1/1\u001b[0m \u001b[32m━━━━━━━━━━━━━━━━━━━━\u001b[0m\u001b[37m\u001b[0m \u001b[1m0s\u001b[0m 326ms/step\n"
     ]
    }
   ],
   "source": [
    "predicted_labels = model.predict(X_test_pad)"
   ]
  },
  {
   "cell_type": "code",
   "execution_count": 51,
   "id": "c4d98655",
   "metadata": {},
   "outputs": [],
   "source": [
    "instagram_data['predicted_depression_label'] = predicted_labels.reshape(-1)\n"
   ]
  },
  {
   "cell_type": "code",
   "execution_count": 52,
   "id": "04d49a6d",
   "metadata": {},
   "outputs": [],
   "source": [
    "depressing_captions = instagram_data[instagram_data['predicted_depression_label'] > 0.9]['caption']\n"
   ]
  },
  {
   "cell_type": "code",
   "execution_count": 53,
   "id": "b6981c3e",
   "metadata": {},
   "outputs": [],
   "source": [
    "for caption in depressing_captions:\n",
    "    print(caption)\n"
   ]
  },
  {
   "cell_type": "code",
   "execution_count": 54,
   "id": "1d4401b7",
   "metadata": {},
   "outputs": [
    {
     "data": {
      "text/html": [
       "<div>\n",
       "<style scoped>\n",
       "    .dataframe tbody tr th:only-of-type {\n",
       "        vertical-align: middle;\n",
       "    }\n",
       "\n",
       "    .dataframe tbody tr th {\n",
       "        vertical-align: top;\n",
       "    }\n",
       "\n",
       "    .dataframe thead th {\n",
       "        text-align: right;\n",
       "    }\n",
       "</style>\n",
       "<table border=\"1\" class=\"dataframe\">\n",
       "  <thead>\n",
       "    <tr style=\"text-align: right;\">\n",
       "      <th></th>\n",
       "      <th>id</th>\n",
       "      <th>caption</th>\n",
       "      <th>media_type</th>\n",
       "      <th>media_url</th>\n",
       "      <th>timestamp</th>\n",
       "      <th>predicted_depression_label</th>\n",
       "    </tr>\n",
       "  </thead>\n",
       "  <tbody>\n",
       "    <tr>\n",
       "      <th>0</th>\n",
       "      <td>18042446401450768</td>\n",
       "      <td>Well Well Well,\\nif this is how waking up on t...</td>\n",
       "      <td>CAROUSEL_ALBUM</td>\n",
       "      <td>https://scontent.cdninstagram.com/v/t51.29350-...</td>\n",
       "      <td>2023-05-12T11:39:51+0000</td>\n",
       "      <td>0.413483</td>\n",
       "    </tr>\n",
       "    <tr>\n",
       "      <th>1</th>\n",
       "      <td>17973556948825885</td>\n",
       "      <td>Soooo much fun with these guys!!❤️❤️\\n\\nOkay n...</td>\n",
       "      <td>CAROUSEL_ALBUM</td>\n",
       "      <td>https://scontent.cdninstagram.com/v/t51.29350-...</td>\n",
       "      <td>2022-12-10T19:16:14+0000</td>\n",
       "      <td>0.000171</td>\n",
       "    </tr>\n",
       "    <tr>\n",
       "      <th>2</th>\n",
       "      <td>17949428459369902</td>\n",
       "      <td>Wooooow!\\nI can't believe it and honestly this...</td>\n",
       "      <td>CAROUSEL_ALBUM</td>\n",
       "      <td>https://scontent.cdninstagram.com/v/t51.29350-...</td>\n",
       "      <td>2022-12-10T16:51:42+0000</td>\n",
       "      <td>0.097041</td>\n",
       "    </tr>\n",
       "    <tr>\n",
       "      <th>3</th>\n",
       "      <td>17915992601505552</td>\n",
       "      <td>So,we did the secret santa a bit too early (or...</td>\n",
       "      <td>CAROUSEL_ALBUM</td>\n",
       "      <td>https://scontent.cdninstagram.com/v/t51.29350-...</td>\n",
       "      <td>2022-03-22T15:48:47+0000</td>\n",
       "      <td>0.699847</td>\n",
       "    </tr>\n",
       "    <tr>\n",
       "      <th>4</th>\n",
       "      <td>17955419035656096</td>\n",
       "      <td>Ummmm a birthday post ig....\\nHad a blast!\\nTh...</td>\n",
       "      <td>CAROUSEL_ALBUM</td>\n",
       "      <td>https://scontent.cdninstagram.com/v/t51.29350-...</td>\n",
       "      <td>2022-03-13T09:01:06+0000</td>\n",
       "      <td>0.000242</td>\n",
       "    </tr>\n",
       "    <tr>\n",
       "      <th>5</th>\n",
       "      <td>17909518853372744</td>\n",
       "      <td>Kehndi Hundi Si @khajuriaarchit</td>\n",
       "      <td>IMAGE</td>\n",
       "      <td>https://scontent.cdninstagram.com/v/t51.29350-...</td>\n",
       "      <td>2022-02-01T17:24:22+0000</td>\n",
       "      <td>0.000689</td>\n",
       "    </tr>\n",
       "    <tr>\n",
       "      <th>6</th>\n",
       "      <td>17915548409185209</td>\n",
       "      <td>My Christmas present is better than yours!😌🎄✨</td>\n",
       "      <td>IMAGE</td>\n",
       "      <td>https://scontent.cdninstagram.com/v/t51.29350-...</td>\n",
       "      <td>2021-12-25T18:16:23+0000</td>\n",
       "      <td>0.000544</td>\n",
       "    </tr>\n",
       "    <tr>\n",
       "      <th>7</th>\n",
       "      <td>17933252203771714</td>\n",
       "      <td>Awkwardness is directly proportional to size e...</td>\n",
       "      <td>CAROUSEL_ALBUM</td>\n",
       "      <td>https://scontent.cdninstagram.com/v/t51.29350-...</td>\n",
       "      <td>2021-11-01T17:54:12+0000</td>\n",
       "      <td>0.000943</td>\n",
       "    </tr>\n",
       "    <tr>\n",
       "      <th>8</th>\n",
       "      <td>18123764818217370</td>\n",
       "      <td>Babe we should break up, my kurti is longer th...</td>\n",
       "      <td>IMAGE</td>\n",
       "      <td>https://scontent.cdninstagram.com/v/t51.29350-...</td>\n",
       "      <td>2021-08-09T19:01:40+0000</td>\n",
       "      <td>0.000797</td>\n",
       "    </tr>\n",
       "    <tr>\n",
       "      <th>9</th>\n",
       "      <td>17877087046978553</td>\n",
       "      <td>CARRY ON</td>\n",
       "      <td>CAROUSEL_ALBUM</td>\n",
       "      <td>https://scontent.cdninstagram.com/v/t51.29350-...</td>\n",
       "      <td>2020-11-19T13:30:16+0000</td>\n",
       "      <td>0.001683</td>\n",
       "    </tr>\n",
       "    <tr>\n",
       "      <th>10</th>\n",
       "      <td>18170228749039334</td>\n",
       "      <td>Confidence level: Kanye West</td>\n",
       "      <td>IMAGE</td>\n",
       "      <td>https://scontent.cdninstagram.com/v/t51.29350-...</td>\n",
       "      <td>2020-10-23T16:50:24+0000</td>\n",
       "      <td>0.000685</td>\n",
       "    </tr>\n",
       "    <tr>\n",
       "      <th>11</th>\n",
       "      <td>17870646019798745</td>\n",
       "      <td>Throwback to 2016!\\nWas so livid back then aft...</td>\n",
       "      <td>IMAGE</td>\n",
       "      <td>https://scontent.cdninstagram.com/v/t51.2885-1...</td>\n",
       "      <td>2020-06-19T15:24:32+0000</td>\n",
       "      <td>0.000592</td>\n",
       "    </tr>\n",
       "    <tr>\n",
       "      <th>12</th>\n",
       "      <td>18100153813145770</td>\n",
       "      <td>Happy Birthday Di!❤️🥳🥳\\nThanks for being such ...</td>\n",
       "      <td>CAROUSEL_ALBUM</td>\n",
       "      <td>https://scontent.cdninstagram.com/v/t51.2885-1...</td>\n",
       "      <td>2020-05-20T18:14:11+0000</td>\n",
       "      <td>0.000242</td>\n",
       "    </tr>\n",
       "    <tr>\n",
       "      <th>13</th>\n",
       "      <td>17851444100038840</td>\n",
       "      <td>Happy Birthday Papa!\\nI would keep on making f...</td>\n",
       "      <td>CAROUSEL_ALBUM</td>\n",
       "      <td>https://scontent.cdninstagram.com/v/t51.2885-1...</td>\n",
       "      <td>2020-05-18T17:38:55+0000</td>\n",
       "      <td>0.000838</td>\n",
       "    </tr>\n",
       "    <tr>\n",
       "      <th>14</th>\n",
       "      <td>18141022786041614</td>\n",
       "      <td>#tbt to last year!!I was so excited to hear th...</td>\n",
       "      <td>IMAGE</td>\n",
       "      <td>https://scontent.cdninstagram.com/v/t51.2885-1...</td>\n",
       "      <td>2020-05-07T06:56:43+0000</td>\n",
       "      <td>0.002244</td>\n",
       "    </tr>\n",
       "    <tr>\n",
       "      <th>15</th>\n",
       "      <td>17870305297727004</td>\n",
       "      <td>Run to the rescue with love and peace will fol...</td>\n",
       "      <td>IMAGE</td>\n",
       "      <td>https://scontent.cdninstagram.com/v/t51.2885-1...</td>\n",
       "      <td>2020-04-30T06:22:53+0000</td>\n",
       "      <td>0.000371</td>\n",
       "    </tr>\n",
       "  </tbody>\n",
       "</table>\n",
       "</div>"
      ],
      "text/plain": [
       "                   id                                            caption  \\\n",
       "0   18042446401450768  Well Well Well,\\nif this is how waking up on t...   \n",
       "1   17973556948825885  Soooo much fun with these guys!!❤️❤️\\n\\nOkay n...   \n",
       "2   17949428459369902  Wooooow!\\nI can't believe it and honestly this...   \n",
       "3   17915992601505552  So,we did the secret santa a bit too early (or...   \n",
       "4   17955419035656096  Ummmm a birthday post ig....\\nHad a blast!\\nTh...   \n",
       "5   17909518853372744                    Kehndi Hundi Si @khajuriaarchit   \n",
       "6   17915548409185209      My Christmas present is better than yours!😌🎄✨   \n",
       "7   17933252203771714  Awkwardness is directly proportional to size e...   \n",
       "8   18123764818217370  Babe we should break up, my kurti is longer th...   \n",
       "9   17877087046978553                                           CARRY ON   \n",
       "10  18170228749039334                       Confidence level: Kanye West   \n",
       "11  17870646019798745  Throwback to 2016!\\nWas so livid back then aft...   \n",
       "12  18100153813145770  Happy Birthday Di!❤️🥳🥳\\nThanks for being such ...   \n",
       "13  17851444100038840  Happy Birthday Papa!\\nI would keep on making f...   \n",
       "14  18141022786041614  #tbt to last year!!I was so excited to hear th...   \n",
       "15  17870305297727004  Run to the rescue with love and peace will fol...   \n",
       "\n",
       "        media_type                                          media_url  \\\n",
       "0   CAROUSEL_ALBUM  https://scontent.cdninstagram.com/v/t51.29350-...   \n",
       "1   CAROUSEL_ALBUM  https://scontent.cdninstagram.com/v/t51.29350-...   \n",
       "2   CAROUSEL_ALBUM  https://scontent.cdninstagram.com/v/t51.29350-...   \n",
       "3   CAROUSEL_ALBUM  https://scontent.cdninstagram.com/v/t51.29350-...   \n",
       "4   CAROUSEL_ALBUM  https://scontent.cdninstagram.com/v/t51.29350-...   \n",
       "5            IMAGE  https://scontent.cdninstagram.com/v/t51.29350-...   \n",
       "6            IMAGE  https://scontent.cdninstagram.com/v/t51.29350-...   \n",
       "7   CAROUSEL_ALBUM  https://scontent.cdninstagram.com/v/t51.29350-...   \n",
       "8            IMAGE  https://scontent.cdninstagram.com/v/t51.29350-...   \n",
       "9   CAROUSEL_ALBUM  https://scontent.cdninstagram.com/v/t51.29350-...   \n",
       "10           IMAGE  https://scontent.cdninstagram.com/v/t51.29350-...   \n",
       "11           IMAGE  https://scontent.cdninstagram.com/v/t51.2885-1...   \n",
       "12  CAROUSEL_ALBUM  https://scontent.cdninstagram.com/v/t51.2885-1...   \n",
       "13  CAROUSEL_ALBUM  https://scontent.cdninstagram.com/v/t51.2885-1...   \n",
       "14           IMAGE  https://scontent.cdninstagram.com/v/t51.2885-1...   \n",
       "15           IMAGE  https://scontent.cdninstagram.com/v/t51.2885-1...   \n",
       "\n",
       "                   timestamp  predicted_depression_label  \n",
       "0   2023-05-12T11:39:51+0000                    0.413483  \n",
       "1   2022-12-10T19:16:14+0000                    0.000171  \n",
       "2   2022-12-10T16:51:42+0000                    0.097041  \n",
       "3   2022-03-22T15:48:47+0000                    0.699847  \n",
       "4   2022-03-13T09:01:06+0000                    0.000242  \n",
       "5   2022-02-01T17:24:22+0000                    0.000689  \n",
       "6   2021-12-25T18:16:23+0000                    0.000544  \n",
       "7   2021-11-01T17:54:12+0000                    0.000943  \n",
       "8   2021-08-09T19:01:40+0000                    0.000797  \n",
       "9   2020-11-19T13:30:16+0000                    0.001683  \n",
       "10  2020-10-23T16:50:24+0000                    0.000685  \n",
       "11  2020-06-19T15:24:32+0000                    0.000592  \n",
       "12  2020-05-20T18:14:11+0000                    0.000242  \n",
       "13  2020-05-18T17:38:55+0000                    0.000838  \n",
       "14  2020-05-07T06:56:43+0000                    0.002244  \n",
       "15  2020-04-30T06:22:53+0000                    0.000371  "
      ]
     },
     "execution_count": 54,
     "metadata": {},
     "output_type": "execute_result"
    }
   ],
   "source": [
    "instagram_data"
   ]
  },
  {
   "cell_type": "code",
   "execution_count": null,
   "id": "b2ff5336",
   "metadata": {},
   "outputs": [],
   "source": []
  }
 ],
 "metadata": {
  "kernelspec": {
   "display_name": "Python 3 (ipykernel)",
   "language": "python",
   "name": "python3"
  },
  "language_info": {
   "codemirror_mode": {
    "name": "ipython",
    "version": 3
   },
   "file_extension": ".py",
   "mimetype": "text/x-python",
   "name": "python",
   "nbconvert_exporter": "python",
   "pygments_lexer": "ipython3",
   "version": "3.12.3"
  }
 },
 "nbformat": 4,
 "nbformat_minor": 5
}
