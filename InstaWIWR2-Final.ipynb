{
 "cells": [
  {
   "cell_type": "code",
   "execution_count": null,
   "id": "96b07e0c",
   "metadata": {
    "scrolled": true
   },
   "outputs": [],
   "source": [
    "!pip install beautifulsoup4 requests pandas matplotlib plotly"
   ]
  },
  {
   "cell_type": "code",
   "execution_count": 1,
   "id": "bc4be2f6",
   "metadata": {},
   "outputs": [],
   "source": [
    "import requests\n",
    "import pandas as pd"
   ]
  },
  {
   "cell_type": "code",
   "execution_count": 2,
   "id": "e36eb226",
   "metadata": {},
   "outputs": [],
   "source": [
    "url = f'https://graph.instagram.com/me/media?fields=id,caption,timestamp,\\\n",
    "media_type&access_token=IGQWRPcTZA3ejVHZAThTQmd5SDZAlMDBPNjhWQnlsY3pDcWhFZATFzTG5BemVVVkplTHJxWEh3MEdyZAGpNY3g0TVpuekVfMEFjZA3FwNHhMU1N0NndyeFFIRlJfNTVFM3VyTy1jQ1h4bm1wNHlJcG9YY090YXUtTHA1X0kZD'"
   ]
  },
  {
   "cell_type": "code",
   "execution_count": 3,
   "id": "65ce47c5",
   "metadata": {},
   "outputs": [],
   "source": [
    "response = requests.get(url)"
   ]
  },
  {
   "cell_type": "code",
   "execution_count": 4,
   "id": "48208fee",
   "metadata": {},
   "outputs": [],
   "source": [
    "if response.status_code == 200:\n",
    "    data = response.json()\n",
    "else:\n",
    "    print(\"Error making the API request:\", response.text)\n",
    "    data = None"
   ]
  },
  {
   "cell_type": "code",
   "execution_count": 5,
   "id": "41e9a646",
   "metadata": {},
   "outputs": [],
   "source": [
    "if data:\n",
    "    df = pd.DataFrame(data['data'])  # Assuming 'data' is a dictionary containing 'data' key with a list of records\n",
    "else:\n",
    "    df = pd.DataFrame(columns=['id', 'caption','timestamp','mediatype','username'])\n"
   ]
  },
  {
   "cell_type": "code",
   "execution_count": null,
   "id": "0fa1078b",
   "metadata": {
    "scrolled": true
   },
   "outputs": [],
   "source": [
    "print(df)"
   ]
  },
  {
   "cell_type": "code",
   "execution_count": 7,
   "id": "0b1b3b7e",
   "metadata": {},
   "outputs": [],
   "source": [
    "df.to_csv('instagram_data.csv', index=False)"
   ]
  },
  {
   "cell_type": "code",
   "execution_count": null,
   "id": "14dd736b",
   "metadata": {},
   "outputs": [],
   "source": [
    "!pip install scikit-learn keras tensorflow\n"
   ]
  },
  {
   "cell_type": "code",
   "execution_count": 9,
   "id": "f8840746",
   "metadata": {},
   "outputs": [],
   "source": [
    "import tensorflow as tf\n",
    "from tensorflow.keras.preprocessing.text import Tokenizer\n",
    "from sklearn.model_selection import train_test_split\n",
    "from keras.preprocessing.sequence import pad_sequences\n",
    "from keras.models import Sequential\n",
    "from keras.models import Model\n",
    "from keras.layers import Embedding, Bidirectional, LSTM, Dense, Input, Concatenate, Dot, Activation"
   ]
  },
  {
   "cell_type": "code",
   "execution_count": 10,
   "id": "333c42de",
   "metadata": {},
   "outputs": [],
   "source": [
    "training_data = pd.read_csv('training_data.csv')"
   ]
  },
  {
   "cell_type": "code",
   "execution_count": 11,
   "id": "d59bb3e9",
   "metadata": {},
   "outputs": [],
   "source": [
    "instagram_data = pd.read_csv('instagram_data.csv')"
   ]
  },
  {
   "cell_type": "code",
   "execution_count": 12,
   "id": "f9271148",
   "metadata": {},
   "outputs": [],
   "source": [
    "instagram_data.dropna(subset=['caption'], inplace=True)\n",
    "X_train = training_data['caption'].astype(str)\n",
    "y_train = training_data['depression_label']\n",
    "X_test = instagram_data['caption'].astype(str)"
   ]
  },
  {
   "cell_type": "code",
   "execution_count": 13,
   "id": "fae6e4bf",
   "metadata": {},
   "outputs": [],
   "source": [
    "tokenizer = Tokenizer()\n",
    "tokenizer.fit_on_texts(X_train)\n",
    "X_train_seq = tokenizer.texts_to_sequences(X_train)\n",
    "X_test_seq = tokenizer.texts_to_sequences(X_test)"
   ]
  },
  {
   "cell_type": "code",
   "execution_count": 14,
   "id": "00446c59",
   "metadata": {},
   "outputs": [],
   "source": [
    "max_len = 100  # Define your maximum sequence length\n",
    "X_train_pad = pad_sequences(X_train_seq, maxlen=max_len, padding='post')\n",
    "X_test_pad = pad_sequences(X_test_seq, maxlen=max_len, padding='post')"
   ]
  },
  {
   "cell_type": "code",
   "execution_count": 15,
   "id": "c104f5fc",
   "metadata": {},
   "outputs": [],
   "source": [
    "input_layer = Input(shape=(max_len,))\n",
    "embedding_layer = Embedding(input_dim=len(tokenizer.word_index)+1, output_dim=100)(input_layer)\n",
    "lstm_layer = Bidirectional(LSTM(64, return_sequences=True))(embedding_layer)\n",
    "attention = Dense(1, activation='tanh')(lstm_layer)\n",
    "attention = Activation('sigmoid')(attention)\n",
    "context = Dot(axes=1)([attention, lstm_layer])\n",
    "output_layer = Dense(1, activation='sigmoid')(context)\n",
    "\n",
    "model = Model(inputs=[input_layer], outputs=output_layer)"
   ]
  },
  {
   "cell_type": "code",
   "execution_count": 16,
   "id": "e7624659",
   "metadata": {},
   "outputs": [],
   "source": [
    "model.compile(optimizer='adam', loss='binary_crossentropy', metrics=['accuracy'])"
   ]
  },
  {
   "cell_type": "code",
   "execution_count": null,
   "id": "515d795d",
   "metadata": {},
   "outputs": [],
   "source": [
    "model.fit(X_train_pad, y_train, epochs=10, batch_size=64)"
   ]
  },
  {
   "cell_type": "code",
   "execution_count": 18,
   "id": "c221f47b",
   "metadata": {},
   "outputs": [
    {
     "name": "stdout",
     "output_type": "stream",
     "text": [
      "\u001b[1m1/1\u001b[0m \u001b[32m━━━━━━━━━━━━━━━━━━━━\u001b[0m\u001b[37m\u001b[0m \u001b[1m1s\u001b[0m 848ms/step\n"
     ]
    }
   ],
   "source": [
    "predicted_labels = model.predict(X_test_pad)"
   ]
  },
  {
   "cell_type": "code",
   "execution_count": 19,
   "id": "c4d98655",
   "metadata": {},
   "outputs": [],
   "source": [
    "instagram_data['predicted_depression_label'] = predicted_labels.reshape(-1)\n"
   ]
  },
  {
   "cell_type": "code",
   "execution_count": 20,
   "id": "04d49a6d",
   "metadata": {},
   "outputs": [],
   "source": [
    "depressing_captions = instagram_data[instagram_data['predicted_depression_label'] > 0.9]['caption']\n"
   ]
  },
  {
   "cell_type": "code",
   "execution_count": null,
   "id": "b6981c3e",
   "metadata": {},
   "outputs": [],
   "source": [
    "for caption in depressing_captions:\n",
    "    print(caption)\n"
   ]
  },
  {
   "cell_type": "code",
   "execution_count": null,
   "id": "1d4401b7",
   "metadata": {},
   "outputs": [],
   "source": [
    "instagram_data"
   ]
  },
  {
   "cell_type": "code",
   "execution_count": null,
   "id": "b2ff5336",
   "metadata": {},
   "outputs": [],
   "source": []
  }
 ],
 "metadata": {
  "kernelspec": {
   "display_name": "Python 3 (ipykernel)",
   "language": "python",
   "name": "python3"
  },
  "language_info": {
   "codemirror_mode": {
    "name": "ipython",
    "version": 3
   },
   "file_extension": ".py",
   "mimetype": "text/x-python",
   "name": "python",
   "nbconvert_exporter": "python",
   "pygments_lexer": "ipython3",
   "version": "3.11.9"
  }
 },
 "nbformat": 4,
 "nbformat_minor": 5
}
